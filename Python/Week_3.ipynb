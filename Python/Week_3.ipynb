{
  "nbformat": 4,
  "nbformat_minor": 0,
  "metadata": {
    "colab": {
      "provenance": [],
      "authorship_tag": "ABX9TyPd4UGcxIJ3LJSkrlXSQrED",
      "include_colab_link": true
    },
    "kernelspec": {
      "name": "python3",
      "display_name": "Python 3"
    },
    "language_info": {
      "name": "python"
    }
  },
  "cells": [
    {
      "cell_type": "markdown",
      "metadata": {
        "id": "view-in-github",
        "colab_type": "text"
      },
      "source": [
        "<a href=\"https://colab.research.google.com/github/EvaLiho/WoTech/blob/main/Week_3.ipynb\" target=\"_parent\"><img src=\"https://colab.research.google.com/assets/colab-badge.svg\" alt=\"Open In Colab\"/></a>"
      ]
    },
    {
      "cell_type": "code",
      "execution_count": 3,
      "metadata": {
        "colab": {
          "base_uri": "https://localhost:8080/"
        },
        "id": "S5VhfAQZOx3w",
        "outputId": "6ee4eae8-90ba-4ef8-b0e1-9b208c39ef2a"
      },
      "outputs": [
        {
          "output_type": "stream",
          "name": "stdout",
          "text": [
            "True\n",
            "False\n"
          ]
        }
      ],
      "source": [
        "x = 5 # when we ASSIGN we use =\n",
        "y = 5\n",
        "\n",
        "print(x == 5) # when we COMPARE we use ==\n",
        "print('1' == 1)"
      ]
    },
    {
      "cell_type": "code",
      "source": [
        "# not equal (!=)\n",
        "# greater than (>)\n",
        "# less than (<)\n",
        "# greater than or equal to (>=)\n",
        "\n",
        "print(x != y)\n",
        "print(x > 2)\n",
        "print(x < y)\n",
        "print(x <= y)"
      ],
      "metadata": {
        "colab": {
          "base_uri": "https://localhost:8080/"
        },
        "id": "Z9WBK2EWQcgS",
        "outputId": "73d2b390-c9ca-4cb3-b714-367479c4f6b5"
      },
      "execution_count": 10,
      "outputs": [
        {
          "output_type": "stream",
          "name": "stdout",
          "text": [
            "False\n",
            "True\n",
            "False\n",
            "True\n"
          ]
        }
      ]
    },
    {
      "cell_type": "code",
      "source": [
        "# IF ELSE statements\n",
        "\n",
        "x = 10\n",
        "\n",
        "# INDENTATION tühik print ees, if ja else ees ei tohi olla\n",
        "\n",
        "if x < 50:\n",
        "  print('Less than 50')\n",
        "else:\n",
        "  print('More than 50')"
      ],
      "metadata": {
        "colab": {
          "base_uri": "https://localhost:8080/"
        },
        "id": "fE714bTYPtMM",
        "outputId": "ab031e5a-ef33-4154-fe1b-dea5521573ab"
      },
      "execution_count": 22,
      "outputs": [
        {
          "output_type": "stream",
          "name": "stdout",
          "text": [
            "Less than 50\n",
            "This is outside the block\n"
          ]
        }
      ]
    },
    {
      "cell_type": "code",
      "source": [
        "a = 20\n",
        "\n",
        "if a >30:\n",
        "  print('a is above 10')\n",
        "  print('This is still in the block')\n",
        "print('This is outside the block')"
      ],
      "metadata": {
        "colab": {
          "base_uri": "https://localhost:8080/"
        },
        "id": "fBeUxquRVN2v",
        "outputId": "bfadb077-88b6-4e3b-83a6-45a4c0accdd6"
      },
      "execution_count": 28,
      "outputs": [
        {
          "output_type": "stream",
          "name": "stdout",
          "text": [
            "This is outside the block\n"
          ]
        }
      ]
    },
    {
      "cell_type": "code",
      "source": [
        "age = int(input('How old are You?: '))\n",
        "\n",
        "if age >= 18:\n",
        "  print('You can vote!')\n",
        "else:print('You have to wait!')\n",
        "print('Thank You!') #is printed no matter what if-else status is"
      ],
      "metadata": {
        "colab": {
          "base_uri": "https://localhost:8080/"
        },
        "id": "PB5YuvhfV1xy",
        "outputId": "0670c2ea-4eb7-4205-a2a1-37b0b7372dde"
      },
      "execution_count": 32,
      "outputs": [
        {
          "output_type": "stream",
          "name": "stdout",
          "text": [
            "How old are You?:18\n",
            "You can vote!\n",
            "Thank You!\n"
          ]
        }
      ]
    },
    {
      "cell_type": "code",
      "source": [
        "number = int(input('Enter a number: '))\n",
        "\n",
        "# % MODULO - if one value cam be devided by another\n",
        "# check if number is EVEN or ODD\n",
        "\n",
        "if number % 2 == 0: # remonder of devision by 2 is 0\n",
        "  print(f'The nomber {number} is even!')\n",
        "else:\n",
        "  print(f'The number {number} is odd!')\n"
      ],
      "metadata": {
        "colab": {
          "base_uri": "https://localhost:8080/"
        },
        "id": "X9mqVN50XTQQ",
        "outputId": "28e92e38-7562-4e34-de8b-abc5b3a30a35"
      },
      "execution_count": 39,
      "outputs": [
        {
          "output_type": "stream",
          "name": "stdout",
          "text": [
            "Enter a number: 2\n",
            "The nomber 2 is even!\n"
          ]
        }
      ]
    },
    {
      "cell_type": "markdown",
      "source": [
        "# Payment approval"
      ],
      "metadata": {
        "id": "maz7X4oNZhMY"
      }
    },
    {
      "cell_type": "code",
      "source": [
        "# If transaction can be done\n",
        "\n",
        "account_balance = float(input('Enter Your account balance: '))\n",
        "transaction_amount = float(input('Enter the transaction amount: '))\n",
        "\n",
        "if account_balance >= transaction_amount:\n",
        "  print('Payment approved')\n",
        "else:\n",
        "  print('Insufficient funds')\n"
      ],
      "metadata": {
        "colab": {
          "base_uri": "https://localhost:8080/"
        },
        "id": "7EQ-1GH8ZNM2",
        "outputId": "270905d4-9b56-4e25-f1e2-2beeb511e5b8"
      },
      "execution_count": 43,
      "outputs": [
        {
          "output_type": "stream",
          "name": "stdout",
          "text": [
            "Enter Your account balance: 50.85\n",
            "Enter the transaction amount: 50.88\n",
            "Insufficient funds\n"
          ]
        }
      ]
    },
    {
      "cell_type": "markdown",
      "source": [
        "#Access management system"
      ],
      "metadata": {
        "id": "qiSidJR8eVs7"
      }
    },
    {
      "cell_type": "code",
      "source": [
        "# username, password check\n",
        "\n",
        "STORED_USERNAME = 'user123'\n",
        "STORED_PASSWORD = 'pass123'\n",
        "\n",
        "username = input('Insert username: ')\n",
        "password = input('Enter password: ')\n",
        "\n",
        "if username == STORED_USERNAME and password == STORED_PASSWORD:\n",
        "  print('Access granted')\n",
        "else:\n",
        "  print('Access DENIED!')\n",
        "if username != STORED_USERNAME or password != STORED_PASSWORD:\n",
        "  print('Incorrect username or password')"
      ],
      "metadata": {
        "colab": {
          "base_uri": "https://localhost:8080/"
        },
        "id": "SPAw6ngoeZdp",
        "outputId": "a1cb3fb9-d872-4a58-9659-9ec9bcb1b51a"
      },
      "execution_count": 58,
      "outputs": [
        {
          "output_type": "stream",
          "name": "stdout",
          "text": [
            "Insert username: user123\n",
            "Enter password: pass123\n",
            "Access granted\n"
          ]
        }
      ]
    },
    {
      "cell_type": "code",
      "source": [
        "# Multi Way decisions\n",
        "\n",
        "x = 15\n",
        "\n",
        "if x < 5:\n",
        "  print('Small')\n",
        "elif x < 15:\n",
        "  print('Medium')\n",
        "else:\n",
        "  print('Large')\n",
        "\n",
        "print('All done!')\n"
      ],
      "metadata": {
        "colab": {
          "base_uri": "https://localhost:8080/"
        },
        "id": "Hqq0NeQfhCKB",
        "outputId": "a9272d0d-290d-4f1e-8997-58778961165f"
      },
      "execution_count": 57,
      "outputs": [
        {
          "output_type": "stream",
          "name": "stdout",
          "text": [
            "Large\n",
            "All done!\n"
          ]
        }
      ]
    },
    {
      "cell_type": "markdown",
      "source": [
        "# Grading"
      ],
      "metadata": {
        "id": "SndjeoK_iB0g"
      }
    },
    {
      "cell_type": "code",
      "source": [
        "# Grading in scale 100, convert to ABCDEF\n",
        "try:\n",
        "  score = int(input('Enter Your score: '))\n",
        "\n",
        "  #if score < 0 or score > 100:\n",
        "   # break\n",
        "  # if score > 100:\n",
        "  #  print('Incorrect score')\n",
        "\n",
        "  if score >= 90:\n",
        "    print('A')\n",
        "  elif score >= 80:\n",
        "    print('B')\n",
        "  elif score >= 70:\n",
        "    print('C')\n",
        "  elif score >= 60:\n",
        "    print('D')\n",
        "  else:\n",
        "    print('F')\n",
        "except Exception as e:\n",
        "  print(f'Wrong input, exception {e}')"
      ],
      "metadata": {
        "colab": {
          "base_uri": "https://localhost:8080/"
        },
        "id": "FQjHLCVBiFSQ",
        "outputId": "c11ecf22-6c58-43b6-bc5d-196a94432d78"
      },
      "execution_count": 88,
      "outputs": [
        {
          "output_type": "stream",
          "name": "stdout",
          "text": [
            "Enter Your score: 20\n",
            "F\n"
          ]
        }
      ]
    },
    {
      "cell_type": "code",
      "source": [
        "try:\n",
        "  account_balance = float(input('Enter Your account balance: '))\n",
        "  transaction_amount = float(input('Enter the transaction amount: '))\n",
        "\n",
        "  if account_balance >= transaction_amount:\n",
        "    print('Payment approved')\n",
        "  else:\n",
        "    print('Insufficient funds')\n",
        "\n",
        "except Exception as a:\n",
        "  print(f'Wrong input, exception {a}')"
      ],
      "metadata": {
        "colab": {
          "base_uri": "https://localhost:8080/"
        },
        "id": "22tkMzF-m1Es",
        "outputId": "38fa1c09-5c1a-4de2-95f2-c524a9855020"
      },
      "execution_count": 86,
      "outputs": [
        {
          "output_type": "stream",
          "name": "stdout",
          "text": [
            "Enter Your account balance: 5\n",
            "Enter the transaction amount: k\n",
            "Wrong input, exception could not convert string to float: 'k'\n"
          ]
        }
      ]
    },
    {
      "cell_type": "markdown",
      "source": [
        "# GRUOP TASK"
      ],
      "metadata": {
        "id": "WOuj228DqFNE"
      }
    },
    {
      "cell_type": "code",
      "source": [
        "system = input('Is temperature in C or F: ')\n",
        "temp = int(input('Insert temperature: '))\n",
        "\n",
        "if system == 'F':\n",
        "  celsius = (temp - 32) / 1.8 #actual conversion\n",
        "  print(f\"{temp}°F in Fahrenheit is {celsius}°C in Celsius\")\n",
        "elif system == 'C':\n",
        "  fahrenheit = (temp * 1.8) + 32 #actual conversion\n",
        "  print(f\"{temp}°C in Celsius is {fahrenheit}°F in Fahrenheit\")\n",
        "else:\n",
        "  print('Incorrect input!')"
      ],
      "metadata": {
        "colab": {
          "base_uri": "https://localhost:8080/"
        },
        "id": "pFTFwTYmqJ9O",
        "outputId": "4c6e91e9-a9a9-4572-8fda-ed68ed3ad847"
      },
      "execution_count": 95,
      "outputs": [
        {
          "output_type": "stream",
          "name": "stdout",
          "text": [
            "Is temperature in C or F: f\n",
            "Insert temperature: 100\n",
            "Incorrect input!\n"
          ]
        }
      ]
    }
  ]
}
