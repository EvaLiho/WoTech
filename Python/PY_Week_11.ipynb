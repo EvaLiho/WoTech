{
  "nbformat": 4,
  "nbformat_minor": 0,
  "metadata": {
    "colab": {
      "provenance": [],
      "authorship_tag": "ABX9TyMDs6OStVF+uIv/E2BVnGO1",
      "include_colab_link": true
    },
    "kernelspec": {
      "name": "python3",
      "display_name": "Python 3"
    },
    "language_info": {
      "name": "python"
    }
  },
  "cells": [
    {
      "cell_type": "markdown",
      "metadata": {
        "id": "view-in-github",
        "colab_type": "text"
      },
      "source": [
        "<a href=\"https://colab.research.google.com/github/EvaLiho/WoTech/blob/main/PY_Week_11.ipynb\" target=\"_parent\"><img src=\"https://colab.research.google.com/assets/colab-badge.svg\" alt=\"Open In Colab\"/></a>"
      ]
    },
    {
      "cell_type": "markdown",
      "source": [
        "#MY BANK"
      ],
      "metadata": {
        "id": "vdYiYql9J6Yo"
      }
    },
    {
      "cell_type": "code",
      "execution_count": 54,
      "metadata": {
        "colab": {
          "base_uri": "https://localhost:8080/"
        },
        "id": "XJbTGVQJ_CB3",
        "outputId": "09c9133f-21d4-4bef-f758-09a32c2c7ddd"
      },
      "outputs": [
        {
          "output_type": "stream",
          "name": "stdout",
          "text": [
            "3\n"
          ]
        }
      ],
      "source": [
        "import datetime\n",
        "\n",
        "class Client:\n",
        "  number_of_clients = 0\n",
        "\n",
        "  def __init__(self, id, name):\n",
        "    self.id = id\n",
        "    self.name = name\n",
        "    self.accounts = []\n",
        "    Client.number_of_clients += 1\n",
        "\n",
        "  def add_account(self, account):\n",
        "    self.accounts.append(account)\n",
        "\n",
        "class Accounts:\n",
        "  def __init__(self, number, currency, balance = 0.0):\n",
        "    self.number = number\n",
        "    self.currency = currency\n",
        "    self.balance = balance\n",
        "\n",
        "  def make_deposit(self, amount, note):\n",
        "    self.transactions.append(Transaction(self.currency, amount, note))\n",
        "    self.balance += amount\n",
        "\n",
        "  def make_withdrawal(self, amount, note):\n",
        "    self.transactions.append(Transaction(self.currency, -amount, note))\n",
        "    self.balance -= amount\n",
        "\n",
        "class Transaction:\n",
        "  def __init__(self, currency, amount, time_stamp):\n",
        "    self.currency = currency\n",
        "    self.amount = amount\n",
        "    self.time_stamp = datetime.datetime.now()\n",
        "\n",
        "clients = []\n",
        "clients.append(Client('123456', 'Anna'))\n",
        "clients.append(Client('987654', 'Oskar'))\n",
        "clients.append(Client('456123', 'Jenifer'))\n",
        "\n",
        "print(Client.number_of_clients)"
      ]
    },
    {
      "cell_type": "code",
      "source": [
        "print(clients[1].id)"
      ],
      "metadata": {
        "colab": {
          "base_uri": "https://localhost:8080/"
        },
        "id": "f9gdcZZ-KqHe",
        "outputId": "c5bb7fca-497f-46c3-8153-276ea3fbe9b6"
      },
      "execution_count": 12,
      "outputs": [
        {
          "output_type": "stream",
          "name": "stdout",
          "text": [
            "987654\n"
          ]
        }
      ]
    },
    {
      "cell_type": "code",
      "source": [
        "for client in clients:\n",
        "  print(f'Client name: {client.name}')"
      ],
      "metadata": {
        "colab": {
          "base_uri": "https://localhost:8080/"
        },
        "id": "vJie8AFEK8gH",
        "outputId": "513b10d4-4884-4622-c422-fc44595d578b"
      },
      "execution_count": 16,
      "outputs": [
        {
          "output_type": "stream",
          "name": "stdout",
          "text": [
            "Client name: Anna\n",
            "Client name: Oskar\n",
            "Client name: Jenifer\n"
          ]
        }
      ]
    },
    {
      "cell_type": "code",
      "source": [
        "print(f'We have {Client.number_of_clients} clients in our bank:')\n",
        "for client in clients:\n",
        "  print(client.name)"
      ],
      "metadata": {
        "colab": {
          "base_uri": "https://localhost:8080/"
        },
        "id": "yparLTIxLKMS",
        "outputId": "4fa09538-1b52-4ba8-cf23-5de1b44cfb47"
      },
      "execution_count": 15,
      "outputs": [
        {
          "output_type": "stream",
          "name": "stdout",
          "text": [
            "We have 3 clients in our bank:\n",
            "Anna\n",
            "Oskar\n",
            "Jenifer\n"
          ]
        }
      ]
    },
    {
      "cell_type": "code",
      "source": [
        "clients[0].add_account(Account('EE654987564321', 'EUR', 1000))\n",
        "clients[0].add_account(Account('JP582147859635', 'JPY'))\n",
        "clients[2].add_account(Account('US654987643214', 'USD', 8000))"
      ],
      "metadata": {
        "colab": {
          "base_uri": "https://localhost:8080/",
          "height": 180
        },
        "id": "6AJ5ZFCeLykh",
        "outputId": "ab8f104e-890d-4941-e9b0-ce7e8ddfcf25"
      },
      "execution_count": 52,
      "outputs": [
        {
          "output_type": "error",
          "ename": "TypeError",
          "evalue": "Account.__init__() takes 3 positional arguments but 4 were given",
          "traceback": [
            "\u001b[0;31m---------------------------------------------------------------------------\u001b[0m",
            "\u001b[0;31mTypeError\u001b[0m                                 Traceback (most recent call last)",
            "\u001b[0;32m<ipython-input-52-3a5d0dfba659>\u001b[0m in \u001b[0;36m<cell line: 1>\u001b[0;34m()\u001b[0m\n\u001b[0;32m----> 1\u001b[0;31m \u001b[0mclients\u001b[0m\u001b[0;34m[\u001b[0m\u001b[0;36m0\u001b[0m\u001b[0;34m]\u001b[0m\u001b[0;34m.\u001b[0m\u001b[0madd_account\u001b[0m\u001b[0;34m(\u001b[0m\u001b[0mAccount\u001b[0m\u001b[0;34m(\u001b[0m\u001b[0;34m'EE654987564321'\u001b[0m\u001b[0;34m,\u001b[0m \u001b[0;34m'EUR'\u001b[0m\u001b[0;34m,\u001b[0m \u001b[0;36m1000\u001b[0m\u001b[0;34m)\u001b[0m\u001b[0;34m)\u001b[0m\u001b[0;34m\u001b[0m\u001b[0;34m\u001b[0m\u001b[0m\n\u001b[0m\u001b[1;32m      2\u001b[0m \u001b[0mclients\u001b[0m\u001b[0;34m[\u001b[0m\u001b[0;36m0\u001b[0m\u001b[0;34m]\u001b[0m\u001b[0;34m.\u001b[0m\u001b[0madd_account\u001b[0m\u001b[0;34m(\u001b[0m\u001b[0mAccount\u001b[0m\u001b[0;34m(\u001b[0m\u001b[0;34m'JP582147859635'\u001b[0m\u001b[0;34m,\u001b[0m \u001b[0;34m'JPY'\u001b[0m\u001b[0;34m)\u001b[0m\u001b[0;34m)\u001b[0m\u001b[0;34m\u001b[0m\u001b[0;34m\u001b[0m\u001b[0m\n\u001b[1;32m      3\u001b[0m \u001b[0mclients\u001b[0m\u001b[0;34m[\u001b[0m\u001b[0;36m2\u001b[0m\u001b[0;34m]\u001b[0m\u001b[0;34m.\u001b[0m\u001b[0madd_account\u001b[0m\u001b[0;34m(\u001b[0m\u001b[0mAccount\u001b[0m\u001b[0;34m(\u001b[0m\u001b[0;34m'US654987643214'\u001b[0m\u001b[0;34m,\u001b[0m \u001b[0;34m'USD'\u001b[0m\u001b[0;34m,\u001b[0m \u001b[0;36m8000\u001b[0m\u001b[0;34m)\u001b[0m\u001b[0;34m)\u001b[0m\u001b[0;34m\u001b[0m\u001b[0;34m\u001b[0m\u001b[0m\n",
            "\u001b[0;31mTypeError\u001b[0m: Account.__init__() takes 3 positional arguments but 4 were given"
          ]
        }
      ]
    },
    {
      "cell_type": "code",
      "source": [
        "for client in clients:\n",
        "  print(client.name, client.id)\n",
        "  for account in client.accounts:\n",
        "      print(account.number, account.currency)"
      ],
      "metadata": {
        "colab": {
          "base_uri": "https://localhost:8080/"
        },
        "id": "tNrHw5YtTV0y",
        "outputId": "68e16ef9-7387-4327-bf59-d8263e8af836"
      },
      "execution_count": 45,
      "outputs": [
        {
          "output_type": "stream",
          "name": "stdout",
          "text": [
            "Anna 123456\n",
            "EE654987564321 EUR\n",
            "JP582147859635 JPY\n",
            "Oskar 987654\n",
            "Jenifer 456123\n",
            "US654987643214 USD\n"
          ]
        }
      ]
    },
    {
      "cell_type": "code",
      "source": [
        "print(f'We have {Client.number_of_clients} clients in our bank:')\n",
        "\n",
        "for client in clients:\n",
        "  print(f'Client {client.name} has the following accounts:')\n",
        "  for account in client.accounts:\n",
        "    print(f'{account.number} ({account.currency})')"
      ],
      "metadata": {
        "colab": {
          "base_uri": "https://localhost:8080/"
        },
        "id": "lffRmR84XWJu",
        "outputId": "53ff056b-c130-4a49-c399-8c5f06001a10"
      },
      "execution_count": 46,
      "outputs": [
        {
          "output_type": "stream",
          "name": "stdout",
          "text": [
            "We have 3 clients in our bank:\n",
            "Client Anna has the following accounts:\n",
            "EE654987564321 (EUR)\n",
            "JP582147859635 (JPY)\n",
            "Client Oskar has the following accounts:\n",
            "Client Jenifer has the following accounts:\n",
            "US654987643214 (USD)\n"
          ]
        }
      ]
    },
    {
      "cell_type": "markdown",
      "source": [
        "# ELCHINS CODE"
      ],
      "metadata": {
        "id": "9hQt03eAblxC"
      }
    },
    {
      "cell_type": "code",
      "source": [
        "import datetime\n",
        "\n",
        "class Client:\n",
        "  number_of_clients = 0\n",
        "\n",
        "  def __init__(self, id, name):\n",
        "    self.id = id\n",
        "    self.name = name\n",
        "    self.accounts = []\n",
        "    Client.number_of_clients += 1\n",
        "\n",
        "  def add_account(self, account):\n",
        "    self.accounts.append(account)\n",
        "\n",
        "class Account:\n",
        "  def __init__(self, number, currency, balance = 0.0):\n",
        "    self.number = number\n",
        "    self.currency = currency\n",
        "    self.balance = balance\n",
        "    self.transactions = []\n",
        "\n",
        "  def make_deposit(self, amount, note):\n",
        "    self.transactions.append(Transaction(self.currency, amount, note))\n",
        "    self.balance += amount\n",
        "\n",
        "  def make_withdrawal(self, amount, note):\n",
        "    self.transactions.append(Transaction(self.currency, -amount, note))\n",
        "    self.balance -= amount\n",
        "\n",
        "class Transaction:\n",
        "  def __init__(self, currency, amount, note):\n",
        "    self.currency = currency\n",
        "    self.amount = amount\n",
        "    self.note = note\n",
        "    self.time_stamp = datetime.datetime.now()\n",
        "\n",
        "# now, let us work using those classes\n",
        "# adding clients to a list\n",
        "clients = []\n",
        "clients.append(Client('123456', 'Anna'))\n",
        "clients.append(Client('987654', 'Oskar'))\n",
        "clients.append(Client('456123', 'Jenifer'))\n",
        "\n",
        "# adding accounts to clients\n",
        "clients[0].add_account(Account('EE654987564321', 'EUR', 1000.0))\n",
        "clients[0].add_account(Account('JP582147859635', 'JPY', 25000.30))\n",
        "clients[0].add_account(Account('US654987643214', 'USD'))\n",
        "clients[1].add_account(Account('PL849512635445', 'PLN', 47800.00))\n",
        "clients[2].add_account(Account('SE741254956587', 'SEK', 200.18))\n",
        "\n",
        "\n",
        "# let's make some transactions\n",
        "clients[0].accounts[0].make_deposit(1200, 'Salary')\n",
        "clients[0].accounts[0].make_withdrawal(50, 'Grocery')\n",
        "clients[0].accounts[0].make_withdrawal(140, 'Clothes')\n",
        "clients[0].accounts[0].make_withdrawal(20, 'Dinner')\n",
        "\n",
        "# printing some data\n",
        "print(f'We have {Client.number_of_clients} clients in our bank:')\n",
        "\n",
        "for client in clients:\n",
        "  print(f'Client {client.name} has the following accounts:')\n",
        "  for account in client.accounts:\n",
        "    print(f'    {account.number} ({account.currency}) {account.balance}')\n",
        "    for transaction in account.transactions:\n",
        "      print(f'        {transaction.time_stamp} {transaction.currency} {transaction.amount}')"
      ],
      "metadata": {
        "colab": {
          "base_uri": "https://localhost:8080/"
        },
        "id": "Ybj_VekDbgZ5",
        "outputId": "26534947-4f6f-421f-aafd-9e85e0720f87"
      },
      "execution_count": 55,
      "outputs": [
        {
          "output_type": "stream",
          "name": "stdout",
          "text": [
            "We have 3 clients in our bank:\n",
            "Client Anna has the following accounts:\n",
            "    EE654987564321 (EUR) 1990.0\n",
            "        2024-06-02 14:50:23.902668 EUR 1200\n",
            "        2024-06-02 14:50:23.902803 EUR -50\n",
            "        2024-06-02 14:50:23.902920 EUR -140\n",
            "        2024-06-02 14:50:23.902995 EUR -20\n",
            "    JP582147859635 (JPY) 25000.3\n",
            "    US654987643214 (USD) 0.0\n",
            "Client Oskar has the following accounts:\n",
            "    PL849512635445 (PLN) 47800.0\n",
            "Client Jenifer has the following accounts:\n",
            "    SE741254956587 (SEK) 200.18\n"
          ]
        }
      ]
    }
  ]
}
