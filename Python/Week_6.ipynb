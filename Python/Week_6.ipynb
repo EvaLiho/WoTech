{
  "nbformat": 4,
  "nbformat_minor": 0,
  "metadata": {
    "colab": {
      "provenance": [],
      "authorship_tag": "ABX9TyPrYyqc0dxyoe7qjXXXjo+m",
      "include_colab_link": true
    },
    "kernelspec": {
      "name": "python3",
      "display_name": "Python 3"
    },
    "language_info": {
      "name": "python"
    }
  },
  "cells": [
    {
      "cell_type": "markdown",
      "metadata": {
        "id": "view-in-github",
        "colab_type": "text"
      },
      "source": [
        "<a href=\"https://colab.research.google.com/github/EvaLiho/WoTech/blob/main/Week_6.ipynb\" target=\"_parent\"><img src=\"https://colab.research.google.com/assets/colab-badge.svg\" alt=\"Open In Colab\"/></a>"
      ]
    },
    {
      "cell_type": "markdown",
      "source": [
        "### FOR LOOPS"
      ],
      "metadata": {
        "id": "OFjDRS_sXdsf"
      }
    },
    {
      "cell_type": "code",
      "source": [
        "for letter in \"I LOVE PY\":    #string iterable object\n",
        "  print(letter)               #default - \\n - new line character - letters in column"
      ],
      "metadata": {
        "id": "TgcxxVvJXgyz"
      },
      "execution_count": null,
      "outputs": []
    },
    {
      "cell_type": "code",
      "source": [
        "for letter in \"I LOVE PY\":    #string iterable object\n",
        "  print(letter, end = '')     # end = '' - letters in row"
      ],
      "metadata": {
        "colab": {
          "base_uri": "https://localhost:8080/"
        },
        "id": "VdQ1fN0bYAzL",
        "outputId": "455642c4-30db-40f0-9245-64f9dec518b9"
      },
      "execution_count": 5,
      "outputs": [
        {
          "output_type": "stream",
          "name": "stdout",
          "text": [
            "I LOVE PY"
          ]
        }
      ]
    },
    {
      "cell_type": "markdown",
      "source": [
        "### FOR LOOP LIST\n"
      ],
      "metadata": {
        "id": "6yiNqRGOZQAr"
      }
    },
    {
      "cell_type": "code",
      "source": [
        "cities_i_have_been_to = ['Tallin', 'Riga', 'Tartu', 'Aluksne', 'Viru', 'Ventspils']"
      ],
      "metadata": {
        "id": "EOH76-JOZcSy"
      },
      "execution_count": 13,
      "outputs": []
    },
    {
      "cell_type": "code",
      "source": [
        "for city in cities_i_have_been_to:\n",
        "  print(f'I have been to {city}')"
      ],
      "metadata": {
        "colab": {
          "base_uri": "https://localhost:8080/"
        },
        "id": "0Yh5pHi2Zkr_",
        "outputId": "a8b1cb8b-c4c0-4a8a-dce2-3a5eb05ffc8d"
      },
      "execution_count": 10,
      "outputs": [
        {
          "output_type": "stream",
          "name": "stdout",
          "text": [
            "I have been to Tallin\n",
            "I have been to Riga\n",
            "I have been to Tartu\n",
            "I have been to Aluksne\n",
            "I have been to Viru\n",
            "I have been to Ventspils\n"
          ]
        }
      ]
    },
    {
      "cell_type": "code",
      "source": [
        "counter = 1                   #initialize the COUNTER\n",
        "\n",
        "for city in cities_i_have_been_to:\n",
        "  print(f'{counter}. I have been to {city}')\n",
        "  counter = counter + 1"
      ],
      "metadata": {
        "colab": {
          "base_uri": "https://localhost:8080/"
        },
        "id": "D8AsSzj0aU1p",
        "outputId": "c9220be8-526b-41c0-b687-f785eaba8bed"
      },
      "execution_count": 12,
      "outputs": [
        {
          "output_type": "stream",
          "name": "stdout",
          "text": [
            "1. I have been to Tallin\n",
            "2. I have been to Riga\n",
            "3. I have been to Tartu\n",
            "4. I have been to Aluksne\n",
            "5. I have been to Viru\n",
            "6. I have been to Ventspils\n"
          ]
        }
      ]
    },
    {
      "cell_type": "code",
      "source": [
        "# ADD PREVIOUS CITY IN THE FOR-LOOP\n",
        "cities_i_have_been_to = ['Tallin', 'Riga', 'Tartu', 'Aluksne', 'Viru', 'Ventspils']\n",
        "counter = 1\n",
        "previous_city = None\n",
        "\n",
        "for city in cities_i_have_been_to:\n",
        "  print(f'{counter}. I have been to {city}. The previous city I visited was {previous_city}.')\n",
        "  previous_city = city\n",
        "  counter = counter + 1"
      ],
      "metadata": {
        "colab": {
          "base_uri": "https://localhost:8080/"
        },
        "id": "5L8Qe7WNbllr",
        "outputId": "64b9726d-0b2f-4709-b99e-e9bafc3f3f7b"
      },
      "execution_count": 14,
      "outputs": [
        {
          "output_type": "stream",
          "name": "stdout",
          "text": [
            "1. I have been to Tallin. The previous city I visited was None.\n",
            "2. I have been to Riga. The previous city I visited was Tallin.\n",
            "3. I have been to Tartu. The previous city I visited was Riga.\n",
            "4. I have been to Aluksne. The previous city I visited was Tartu.\n",
            "5. I have been to Viru. The previous city I visited was Aluksne.\n",
            "6. I have been to Ventspils. The previous city I visited was Viru.\n"
          ]
        }
      ]
    },
    {
      "cell_type": "code",
      "source": [
        "# ADDING IF STATEMENT IN FOR-LOOP\n",
        "cities_i_have_been_to = ['Tallin', 'Riga', 'Tartu', 'Aluksne', 'Viru', 'Ventspils']\n",
        "counter = 1\n",
        "previous_city = None\n",
        "\n",
        "for city in cities_i_have_been_to:\n",
        "  if previous_city == None:\n",
        "    print(f'{counter}. I have been to {city}.')\n",
        "  else:\n",
        "    print(f'{counter}. I have been to {city}. The previous city I visited was {previous_city}.')\n",
        "  previous_city = city\n",
        "  counter = counter + 1"
      ],
      "metadata": {
        "colab": {
          "base_uri": "https://localhost:8080/"
        },
        "id": "06EFOHxHdFDq",
        "outputId": "b060b773-efae-481a-82a1-20498ff28539"
      },
      "execution_count": 18,
      "outputs": [
        {
          "output_type": "stream",
          "name": "stdout",
          "text": [
            "1. I have been to Tallin.\n",
            "2. I have been to Riga. The previous city I visited was Tallin.\n",
            "3. I have been to Tartu. The previous city I visited was Riga.\n",
            "4. I have been to Aluksne. The previous city I visited was Tartu.\n",
            "5. I have been to Viru. The previous city I visited was Aluksne.\n",
            "6. I have been to Ventspils. The previous city I visited was Viru.\n"
          ]
        }
      ]
    },
    {
      "cell_type": "markdown",
      "source": [
        "### FOR-LOOPS WITH INDEXES\n"
      ],
      "metadata": {
        "id": "OZsQTOQ1fzZY"
      }
    },
    {
      "cell_type": "code",
      "source": [
        "which_year_I_visited = [2020, 2024, 2020, 2021, 2024, 2022]\n"
      ],
      "metadata": {
        "id": "nrjSie0KfTsp"
      },
      "execution_count": 33,
      "outputs": []
    },
    {
      "cell_type": "code",
      "source": [
        "cities_i_have_been_to[0]                #indexing an element, starts with 0\n"
      ],
      "metadata": {
        "colab": {
          "base_uri": "https://localhost:8080/",
          "height": 35
        },
        "id": "r48oj5_pf5uI",
        "outputId": "7b62157a-b504-4da9-d359-8d992d7e37da"
      },
      "execution_count": 42,
      "outputs": [
        {
          "output_type": "execute_result",
          "data": {
            "text/plain": [
              "'Tallin'"
            ],
            "application/vnd.google.colaboratory.intrinsic+json": {
              "type": "string"
            }
          },
          "metadata": {},
          "execution_count": 42
        }
      ]
    },
    {
      "cell_type": "code",
      "source": [
        "len(cities_i_have_been_to)              #nr of elements"
      ],
      "metadata": {
        "colab": {
          "base_uri": "https://localhost:8080/"
        },
        "id": "ro0rT9Q_j70F",
        "outputId": "e838b5b4-8525-4109-ee72-ad2f8db1121f"
      },
      "execution_count": 43,
      "outputs": [
        {
          "output_type": "execute_result",
          "data": {
            "text/plain": [
              "6"
            ]
          },
          "metadata": {},
          "execution_count": 43
        }
      ]
    },
    {
      "cell_type": "code",
      "source": [
        "range(len(cities_i_have_been_to))\n"
      ],
      "metadata": {
        "colab": {
          "base_uri": "https://localhost:8080/"
        },
        "id": "K9n-3eCujzyc",
        "outputId": "5766768a-563e-4d76-c706-bd5ba31c6c8c"
      },
      "execution_count": 40,
      "outputs": [
        {
          "output_type": "execute_result",
          "data": {
            "text/plain": [
              "range(0, 6)"
            ]
          },
          "metadata": {},
          "execution_count": 40
        }
      ]
    },
    {
      "cell_type": "code",
      "source": [
        "list(range(len(cities_i_have_been_to)))"
      ],
      "metadata": {
        "colab": {
          "base_uri": "https://localhost:8080/"
        },
        "id": "vX1p8rTJj3un",
        "outputId": "d6ffe3f9-811c-4ffe-97b0-7bbaf91b4265"
      },
      "execution_count": 41,
      "outputs": [
        {
          "output_type": "execute_result",
          "data": {
            "text/plain": [
              "[0, 1, 2, 3, 4, 5]"
            ]
          },
          "metadata": {},
          "execution_count": 41
        }
      ]
    },
    {
      "cell_type": "code",
      "source": [
        "for i in range(len(cities_i_have_been_to)):\n",
        "  print(f'This is the index {i}')"
      ],
      "metadata": {
        "colab": {
          "base_uri": "https://localhost:8080/"
        },
        "id": "jTxIApe5gV7J",
        "outputId": "3925c475-cbc4-4d83-f001-6fac7ef6c9fc"
      },
      "execution_count": 27,
      "outputs": [
        {
          "output_type": "stream",
          "name": "stdout",
          "text": [
            "This is the index 0\n",
            "This is the index 1\n",
            "This is the index 2\n",
            "This is the index 3\n",
            "This is the index 4\n",
            "This is the index 5\n"
          ]
        }
      ]
    },
    {
      "cell_type": "code",
      "source": [
        "for i in range(len(cities_i_have_been_to)):\n",
        "  print(cities_i_have_been_to[i])\n",
        "  print(which_year_I_visited[i])\n",
        "  print(f'This is the index {i}')"
      ],
      "metadata": {
        "id": "D-g4m2QXhiwN"
      },
      "execution_count": null,
      "outputs": []
    },
    {
      "cell_type": "code",
      "source": [
        "for i in range(len(cities_i_have_been_to)):\n",
        "  print(f'Ihave been to {cities_i_have_been_to[i]}. I visited that city in {which_year_I_visited[i]}.')"
      ],
      "metadata": {
        "colab": {
          "base_uri": "https://localhost:8080/"
        },
        "id": "AWhuaCXPjIit",
        "outputId": "a3ef5b77-ceb1-4efd-e8cf-b9d46ad7ee82"
      },
      "execution_count": 38,
      "outputs": [
        {
          "output_type": "stream",
          "name": "stdout",
          "text": [
            "Ihave been to Tallin. I visited that city in 2020.\n",
            "Ihave been to Riga. I visited that city in 2024.\n",
            "Ihave been to Tartu. I visited that city in 2020.\n",
            "Ihave been to Aluksne. I visited that city in 2021.\n",
            "Ihave been to Viru. I visited that city in 2024.\n",
            "Ihave been to Ventspils. I visited that city in 2022.\n"
          ]
        }
      ]
    },
    {
      "cell_type": "markdown",
      "source": [
        "### NESTED LISTS"
      ],
      "metadata": {
        "id": "QENH4Qh3oagG"
      }
    },
    {
      "cell_type": "code",
      "source": [
        "# NESTED LIST\n",
        "matrix_2d = [         # can also be written:\n",
        "    [1, 2, 3],        # matrix_2d = [ [1, 2, 3],[4, 5, 6], [7, 8, 9]]\n",
        "    [4, 5, 6],\n",
        "    [7, 8, 9]]"
      ],
      "metadata": {
        "id": "tAlyKEqyj_Uo"
      },
      "execution_count": 44,
      "outputs": []
    },
    {
      "cell_type": "code",
      "source": [
        "for i in matrix_2d:\n",
        "  print(i)"
      ],
      "metadata": {
        "colab": {
          "base_uri": "https://localhost:8080/"
        },
        "id": "ejDRWwgjoqGr",
        "outputId": "9cfbb72b-5db7-4b44-dc2e-191847eaf2dd"
      },
      "execution_count": 45,
      "outputs": [
        {
          "output_type": "stream",
          "name": "stdout",
          "text": [
            "[1, 2, 3]\n",
            "[4, 5, 6]\n",
            "[7, 8, 9]\n"
          ]
        }
      ]
    },
    {
      "cell_type": "code",
      "source": [
        "for i in matrix_2d:\n",
        "  print(i)          # SUB-LIST\n",
        "  for j in i:       # ELEMENTS IN SUB-LIST\n",
        "    print(j)"
      ],
      "metadata": {
        "colab": {
          "base_uri": "https://localhost:8080/"
        },
        "id": "wKBSQ8cboz73",
        "outputId": "fd3a2805-36df-4ea0-a008-7ed086b60944"
      },
      "execution_count": 46,
      "outputs": [
        {
          "output_type": "stream",
          "name": "stdout",
          "text": [
            "[1, 2, 3]\n",
            "1\n",
            "2\n",
            "3\n",
            "[4, 5, 6]\n",
            "4\n",
            "5\n",
            "6\n",
            "[7, 8, 9]\n",
            "7\n",
            "8\n",
            "9\n"
          ]
        }
      ]
    },
    {
      "cell_type": "markdown",
      "source": [
        "### GRADE MAPPING EXERCISE"
      ],
      "metadata": {
        "id": "cCE6WycLqbAB"
      }
    },
    {
      "cell_type": "code",
      "source": [
        "grade_mapping = [[90, 'A'], [80, 'B'], [70, 'C'], [60, 'D'], [0, 'F']] #NESTED LIST"
      ],
      "metadata": {
        "id": "9zMg3aC1qN0r"
      },
      "execution_count": 55,
      "outputs": []
    },
    {
      "cell_type": "code",
      "source": [
        "grade_mapping[0]"
      ],
      "metadata": {
        "colab": {
          "base_uri": "https://localhost:8080/"
        },
        "id": "TxUOK4B8qaNu",
        "outputId": "221c242a-db34-4f6d-b807-8bb7df609d0f"
      },
      "execution_count": 48,
      "outputs": [
        {
          "output_type": "execute_result",
          "data": {
            "text/plain": [
              "[90, 'A']"
            ]
          },
          "metadata": {},
          "execution_count": 48
        }
      ]
    },
    {
      "cell_type": "code",
      "source": [
        "grade_mapping[1][0]"
      ],
      "metadata": {
        "colab": {
          "base_uri": "https://localhost:8080/"
        },
        "id": "mDzSJCVtqnpm",
        "outputId": "0f5614f6-934f-43fe-8b86-314fd21cba18"
      },
      "execution_count": 52,
      "outputs": [
        {
          "output_type": "execute_result",
          "data": {
            "text/plain": [
              "80"
            ]
          },
          "metadata": {},
          "execution_count": 52
        }
      ]
    },
    {
      "cell_type": "code",
      "source": [
        "for number_grade, letter_grade in grade_mapping:\n",
        "  print(letter_grade)"
      ],
      "metadata": {
        "colab": {
          "base_uri": "https://localhost:8080/"
        },
        "id": "jo_tFBZ8q8n6",
        "outputId": "066d7c3a-8025-4091-896e-4f89c5709270"
      },
      "execution_count": 63,
      "outputs": [
        {
          "output_type": "stream",
          "name": "stdout",
          "text": [
            "A\n",
            "B\n",
            "C\n",
            "D\n",
            "F\n"
          ]
        }
      ]
    },
    {
      "cell_type": "code",
      "source": [
        "student_names = [\"Alice\", \"Bob\", \"Charlie\", \"David\", \"Eva\"]\n",
        "student_scores = [85, 72, 93, 60, 77]\n",
        "grade_mapping = [[90, 'A'], [80, 'B'], [70, 'C'], [60, 'D'], [0, 'F']]"
      ],
      "metadata": {
        "id": "XVfzJBREr0Rt"
      },
      "execution_count": 56,
      "outputs": []
    },
    {
      "cell_type": "code",
      "source": [
        "for i in range(len(student_names)):\n",
        "  print(f'{student_names[i]} score is {student_scores[i]}.')"
      ],
      "metadata": {
        "colab": {
          "base_uri": "https://localhost:8080/"
        },
        "id": "ka1n9jDbtRJC",
        "outputId": "37caf94f-2403-4eca-8e24-0eb3f2ed1379"
      },
      "execution_count": 64,
      "outputs": [
        {
          "output_type": "stream",
          "name": "stdout",
          "text": [
            "Alice score is 85.\n",
            "Bob score is 72.\n",
            "Charlie score is 93.\n",
            "David score is 60.\n",
            "Eva score is 77.\n"
          ]
        }
      ]
    },
    {
      "cell_type": "code",
      "source": [
        "for i in range(len(student_names)):\n",
        "  score = student_scores[i]\n",
        "  for number_grade, letter_grade in grade_mapping:\n",
        "    if score >= number_grade:\n",
        "      print(f'Hi, {student_names[i]}, Your letter grade is {letter_grade}.')\n",
        "      break"
      ],
      "metadata": {
        "colab": {
          "base_uri": "https://localhost:8080/"
        },
        "id": "rMFnKwRwr81u",
        "outputId": "41ef61c1-3777-43c7-d377-3741ab1cbf48"
      },
      "execution_count": 65,
      "outputs": [
        {
          "output_type": "stream",
          "name": "stdout",
          "text": [
            "Hi, Alice, Your letter grade is B.\n",
            "Hi, Bob, Your letter grade is C.\n",
            "Hi, Charlie, Your letter grade is A.\n",
            "Hi, David, Your letter grade is D.\n",
            "Hi, Eva, Your letter grade is C.\n"
          ]
        }
      ]
    },
    {
      "cell_type": "code",
      "source": [
        "for i in range(len(student_names)):       #SAME BUT 1 line SHORTER\n",
        "  for number_grade, letter_grade in grade_mapping:\n",
        "    if student_scores[i] >= number_grade:\n",
        "      print(f'Hi, {student_names[i]}, Your letter grade is {letter_grade}.')\n",
        "      break"
      ],
      "metadata": {
        "id": "gMbu0IcMv1_E"
      },
      "execution_count": null,
      "outputs": []
    },
    {
      "cell_type": "markdown",
      "source": [
        "ENUMERATE"
      ],
      "metadata": {
        "id": "--Tm7L_3w3bQ"
      }
    },
    {
      "cell_type": "code",
      "source": [
        "student_names = [\"Alice\", \"Bob\", \"Charlie\", \"David\", \"Eva\"]\n",
        "\n",
        "for index, student in enumerate(student_names, start = 1): #start - so 1st would not be 0\n",
        "  print(f'Student {index}: {student}')"
      ],
      "metadata": {
        "colab": {
          "base_uri": "https://localhost:8080/"
        },
        "id": "K-emTDHHv-6T",
        "outputId": "a835a787-35a0-47b4-a6b2-7bc6cd19872a"
      },
      "execution_count": 69,
      "outputs": [
        {
          "output_type": "stream",
          "name": "stdout",
          "text": [
            "Student 1: Alice\n",
            "Student 2: Bob\n",
            "Student 3: Charlie\n",
            "Student 4: David\n",
            "Student 5: Eva\n"
          ]
        }
      ]
    },
    {
      "cell_type": "code",
      "source": [
        "# ALL 3 POSSIBILITIES\n",
        "\n",
        "#ENUMERATE\n",
        "for index, student in enumerate(student_names):\n",
        "  print(f'Student {index}: {student}')\n",
        "\n",
        "#COUNTER\n",
        "counter = 0 #INITIALIZE THE COUNTER\n",
        "for student in student_names:\n",
        "  print(f'Student {counter}: {student}')\n",
        "  counter = counter + 1\n",
        "\n",
        "#RANGE\n",
        "for i in range(len(student_names)):\n",
        "  print(f'Student {i}: {student_names[i]}')"
      ],
      "metadata": {
        "id": "2_YV2fNxxnBF"
      },
      "execution_count": null,
      "outputs": []
    },
    {
      "cell_type": "markdown",
      "source": [
        "### GROUP WORK"
      ],
      "metadata": {
        "id": "Y-_VnhfgzuMq"
      }
    },
    {
      "cell_type": "code",
      "source": [
        "main_list = ['blue', 'yellow', 'green', 'pink', 'red', 'white']"
      ],
      "metadata": {
        "id": "Ix1jse2ezwM0"
      },
      "execution_count": 93,
      "outputs": []
    },
    {
      "cell_type": "code",
      "source": [
        "main_list = ['blue', 'yellow', 'green', 'pink', 'red', 'white']\n",
        "\n",
        "user_colour = input('What is Your favourite colour?: ')\n",
        "colour = user_colour.lower()\n",
        "\n",
        "if colour in main_list:\n",
        "  for i in main_list:\n",
        "    if colour == i:\n",
        "      print(f'Your favourite colour {colour} is also one of my favourites')\n",
        "else:\n",
        "  print(f'I do not like Your favourite colour {colour}')"
      ],
      "metadata": {
        "colab": {
          "base_uri": "https://localhost:8080/"
        },
        "id": "qXjWv3lp0e6o",
        "outputId": "d5e65ac5-03c8-45aa-a464-ef8e154d9d2a"
      },
      "execution_count": 97,
      "outputs": [
        {
          "output_type": "stream",
          "name": "stdout",
          "text": [
            "What is Your favourite colour?: YELLOW\n",
            "Your favourite colour yellow is also one of my favourites\n"
          ]
        }
      ]
    }
  ]
}
