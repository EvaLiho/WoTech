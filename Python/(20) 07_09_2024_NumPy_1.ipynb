{
  "nbformat": 4,
  "nbformat_minor": 0,
  "metadata": {
    "colab": {
      "provenance": [],
      "toc_visible": true,
      "authorship_tag": "ABX9TyMhR4v1S1rDxSTyaic2KMCN",
      "include_colab_link": true
    },
    "kernelspec": {
      "name": "python3",
      "display_name": "Python 3"
    },
    "language_info": {
      "name": "python"
    }
  },
  "cells": [
    {
      "cell_type": "markdown",
      "metadata": {
        "id": "view-in-github",
        "colab_type": "text"
      },
      "source": [
        "<a href=\"https://colab.research.google.com/github/EvaLiho/WoTech/blob/main/07_09_2024_NumPy_1.ipynb\" target=\"_parent\"><img src=\"https://colab.research.google.com/assets/colab-badge.svg\" alt=\"Open In Colab\"/></a>"
      ]
    },
    {
      "cell_type": "code",
      "execution_count": 1,
      "metadata": {
        "id": "9iLYN68ypQf0"
      },
      "outputs": [],
      "source": [
        "import numpy as np"
      ]
    },
    {
      "cell_type": "markdown",
      "source": [
        "# COIN TOSS"
      ],
      "metadata": {
        "id": "z5IQ1vNxqxK3"
      }
    },
    {
      "cell_type": "code",
      "source": [
        "coin = [\"Heads\", \"Tails\"]"
      ],
      "metadata": {
        "id": "_3tHRYH1qdii"
      },
      "execution_count": 2,
      "outputs": []
    },
    {
      "cell_type": "code",
      "source": [
        "coin"
      ],
      "metadata": {
        "colab": {
          "base_uri": "https://localhost:8080/"
        },
        "id": "YJZ-ur-ZqwTJ",
        "outputId": "6782001e-df8a-497f-82a5-d09a8ac60bb2"
      },
      "execution_count": 3,
      "outputs": [
        {
          "output_type": "execute_result",
          "data": {
            "text/plain": [
              "['Heads', 'Tails']"
            ]
          },
          "metadata": {},
          "execution_count": 3
        }
      ]
    },
    {
      "cell_type": "code",
      "source": [
        "number_of_thows = 1000  # size of the random list"
      ],
      "metadata": {
        "id": "anwC83ytq1jr"
      },
      "execution_count": 4,
      "outputs": []
    },
    {
      "cell_type": "markdown",
      "source": [
        "https://numpy.org/doc/stable/reference/random/generated/numpy.random.choice.html"
      ],
      "metadata": {
        "id": "cNWjOwoArL5W"
      }
    },
    {
      "cell_type": "code",
      "source": [
        "tosses = np.random.choice(coin, number_of_thows)\n",
        "\n",
        "tosses"
      ],
      "metadata": {
        "colab": {
          "base_uri": "https://localhost:8080/"
        },
        "collapsed": true,
        "id": "NF5WVft-rMl2",
        "outputId": "4d407dd6-2ad7-4e52-cf57-0be0bf00f11c"
      },
      "execution_count": 11,
      "outputs": [
        {
          "output_type": "execute_result",
          "data": {
            "text/plain": [
              "array(['Tails', 'Heads', 'Tails', 'Tails', 'Tails', 'Heads', 'Heads',\n",
              "       'Tails', 'Tails', 'Heads', 'Heads', 'Tails', 'Heads', 'Heads',\n",
              "       'Tails', 'Heads', 'Heads', 'Tails', 'Heads', 'Tails', 'Tails',\n",
              "       'Tails', 'Tails', 'Tails', 'Tails', 'Tails', 'Tails', 'Heads',\n",
              "       'Tails', 'Heads', 'Heads', 'Tails', 'Heads', 'Tails', 'Heads',\n",
              "       'Heads', 'Heads', 'Heads', 'Tails', 'Heads', 'Heads', 'Tails',\n",
              "       'Tails', 'Heads', 'Heads', 'Tails', 'Tails', 'Heads', 'Heads',\n",
              "       'Tails', 'Heads', 'Heads', 'Tails', 'Heads', 'Tails', 'Heads',\n",
              "       'Tails', 'Heads', 'Heads', 'Tails', 'Tails', 'Heads', 'Tails',\n",
              "       'Tails', 'Tails', 'Heads', 'Heads', 'Tails', 'Heads', 'Heads',\n",
              "       'Heads', 'Heads', 'Tails', 'Tails', 'Tails', 'Tails', 'Heads',\n",
              "       'Heads', 'Heads', 'Heads', 'Heads', 'Tails', 'Tails', 'Tails',\n",
              "       'Tails', 'Heads', 'Tails', 'Heads', 'Tails', 'Heads', 'Heads',\n",
              "       'Heads', 'Heads', 'Heads', 'Heads', 'Tails', 'Heads', 'Tails',\n",
              "       'Heads', 'Tails', 'Heads', 'Tails', 'Heads', 'Heads', 'Tails',\n",
              "       'Tails', 'Heads', 'Tails', 'Heads', 'Heads', 'Tails', 'Tails',\n",
              "       'Tails', 'Tails', 'Heads', 'Heads', 'Tails', 'Tails', 'Heads',\n",
              "       'Heads', 'Heads', 'Heads', 'Tails', 'Heads', 'Heads', 'Tails',\n",
              "       'Tails', 'Heads', 'Heads', 'Heads', 'Tails', 'Tails', 'Heads',\n",
              "       'Heads', 'Tails', 'Heads', 'Tails', 'Heads', 'Tails', 'Heads',\n",
              "       'Heads', 'Tails', 'Tails', 'Tails', 'Tails', 'Heads', 'Heads',\n",
              "       'Heads', 'Tails', 'Tails', 'Heads', 'Tails', 'Heads', 'Heads',\n",
              "       'Heads', 'Heads', 'Heads', 'Tails', 'Heads', 'Heads', 'Heads',\n",
              "       'Tails', 'Heads', 'Heads', 'Tails', 'Heads', 'Tails', 'Tails',\n",
              "       'Heads', 'Tails', 'Heads', 'Heads', 'Heads', 'Heads', 'Tails',\n",
              "       'Heads', 'Tails', 'Heads', 'Tails', 'Tails', 'Heads', 'Tails',\n",
              "       'Tails', 'Tails', 'Tails', 'Heads', 'Tails', 'Heads', 'Tails',\n",
              "       'Heads', 'Tails', 'Tails', 'Heads', 'Tails', 'Heads', 'Tails',\n",
              "       'Heads', 'Tails', 'Tails', 'Tails', 'Tails', 'Tails', 'Tails',\n",
              "       'Tails', 'Tails', 'Heads', 'Heads', 'Heads', 'Heads', 'Heads',\n",
              "       'Tails', 'Heads', 'Tails', 'Tails', 'Heads', 'Tails', 'Heads',\n",
              "       'Tails', 'Heads', 'Tails', 'Heads', 'Heads', 'Heads', 'Heads',\n",
              "       'Heads', 'Heads', 'Heads', 'Tails', 'Heads', 'Tails', 'Heads',\n",
              "       'Heads', 'Tails', 'Tails', 'Tails', 'Tails', 'Tails', 'Heads',\n",
              "       'Tails', 'Tails', 'Tails', 'Tails', 'Tails', 'Heads', 'Tails',\n",
              "       'Tails', 'Heads', 'Tails', 'Tails', 'Heads', 'Tails', 'Heads',\n",
              "       'Tails', 'Tails', 'Tails', 'Heads', 'Heads', 'Heads', 'Heads',\n",
              "       'Heads', 'Heads', 'Tails', 'Tails', 'Heads', 'Heads', 'Tails',\n",
              "       'Heads', 'Tails', 'Tails', 'Heads', 'Heads', 'Heads', 'Heads',\n",
              "       'Heads', 'Heads', 'Heads', 'Heads', 'Heads', 'Tails', 'Heads',\n",
              "       'Tails', 'Tails', 'Heads', 'Heads', 'Tails', 'Heads', 'Heads',\n",
              "       'Tails', 'Heads', 'Tails', 'Tails', 'Tails', 'Tails', 'Tails',\n",
              "       'Heads', 'Tails', 'Tails', 'Heads', 'Tails', 'Tails', 'Tails',\n",
              "       'Tails', 'Heads', 'Heads', 'Tails', 'Tails', 'Tails', 'Tails',\n",
              "       'Tails', 'Tails', 'Tails', 'Heads', 'Tails', 'Heads', 'Tails',\n",
              "       'Tails', 'Tails', 'Tails', 'Heads', 'Heads', 'Heads', 'Tails',\n",
              "       'Tails', 'Tails', 'Tails', 'Tails', 'Tails', 'Tails', 'Tails',\n",
              "       'Heads', 'Heads', 'Tails', 'Heads', 'Heads', 'Heads', 'Tails',\n",
              "       'Tails', 'Tails', 'Tails', 'Tails', 'Heads', 'Tails', 'Heads',\n",
              "       'Heads', 'Heads', 'Tails', 'Tails', 'Heads', 'Heads', 'Heads',\n",
              "       'Tails', 'Heads', 'Heads', 'Tails', 'Tails', 'Heads', 'Heads',\n",
              "       'Tails', 'Heads', 'Heads', 'Tails', 'Heads', 'Heads', 'Heads',\n",
              "       'Tails', 'Heads', 'Tails', 'Tails', 'Heads', 'Heads', 'Heads',\n",
              "       'Tails', 'Tails', 'Tails', 'Heads', 'Heads', 'Heads', 'Tails',\n",
              "       'Heads', 'Heads', 'Heads', 'Heads', 'Heads', 'Tails', 'Heads',\n",
              "       'Tails', 'Tails', 'Tails', 'Tails', 'Heads', 'Heads', 'Tails',\n",
              "       'Heads', 'Tails', 'Tails', 'Tails', 'Tails', 'Heads', 'Tails',\n",
              "       'Heads', 'Tails', 'Heads', 'Heads', 'Tails', 'Tails', 'Tails',\n",
              "       'Tails', 'Tails', 'Heads', 'Heads', 'Heads', 'Heads', 'Tails',\n",
              "       'Tails', 'Tails', 'Heads', 'Heads', 'Heads', 'Tails', 'Heads',\n",
              "       'Heads', 'Heads', 'Heads', 'Heads', 'Heads', 'Heads', 'Tails',\n",
              "       'Heads', 'Heads', 'Heads', 'Heads', 'Heads', 'Tails', 'Tails',\n",
              "       'Heads', 'Heads', 'Tails', 'Tails', 'Heads', 'Tails', 'Heads',\n",
              "       'Tails', 'Tails', 'Heads', 'Heads', 'Heads', 'Heads', 'Heads',\n",
              "       'Heads', 'Tails', 'Heads', 'Tails', 'Heads', 'Tails', 'Tails',\n",
              "       'Tails', 'Heads', 'Heads', 'Tails', 'Tails', 'Heads', 'Heads',\n",
              "       'Heads', 'Heads', 'Tails', 'Tails', 'Heads', 'Tails', 'Tails',\n",
              "       'Heads', 'Tails', 'Heads', 'Tails', 'Tails', 'Tails', 'Tails',\n",
              "       'Tails', 'Tails', 'Tails', 'Heads', 'Tails', 'Tails', 'Heads',\n",
              "       'Tails', 'Heads', 'Tails', 'Tails', 'Tails', 'Tails', 'Heads',\n",
              "       'Heads', 'Tails', 'Tails', 'Tails', 'Heads', 'Tails', 'Heads',\n",
              "       'Tails', 'Heads', 'Tails', 'Heads', 'Heads', 'Tails', 'Heads',\n",
              "       'Tails', 'Heads', 'Tails', 'Tails', 'Heads', 'Heads', 'Heads',\n",
              "       'Tails', 'Tails', 'Heads', 'Heads', 'Heads', 'Tails', 'Tails',\n",
              "       'Tails', 'Heads', 'Heads', 'Tails', 'Tails', 'Heads', 'Heads',\n",
              "       'Tails', 'Tails', 'Heads', 'Tails', 'Tails', 'Tails', 'Tails',\n",
              "       'Tails', 'Heads', 'Heads', 'Tails', 'Heads', 'Heads', 'Heads',\n",
              "       'Heads', 'Tails', 'Tails', 'Tails', 'Heads', 'Heads', 'Heads',\n",
              "       'Tails', 'Heads', 'Tails', 'Tails', 'Tails', 'Heads', 'Heads',\n",
              "       'Tails', 'Tails', 'Heads', 'Heads', 'Tails', 'Heads', 'Tails',\n",
              "       'Tails', 'Heads', 'Heads', 'Heads', 'Tails', 'Heads', 'Heads',\n",
              "       'Tails', 'Heads', 'Heads', 'Tails', 'Tails', 'Tails', 'Tails',\n",
              "       'Heads', 'Tails', 'Heads', 'Tails', 'Heads', 'Heads', 'Tails',\n",
              "       'Heads', 'Heads', 'Tails', 'Heads', 'Heads', 'Heads', 'Tails',\n",
              "       'Heads', 'Heads', 'Tails', 'Tails', 'Tails', 'Heads', 'Tails',\n",
              "       'Tails', 'Heads', 'Heads', 'Tails', 'Tails', 'Tails', 'Heads',\n",
              "       'Heads', 'Heads', 'Heads', 'Tails', 'Tails', 'Heads', 'Tails',\n",
              "       'Heads', 'Heads', 'Tails', 'Tails', 'Tails', 'Heads', 'Heads',\n",
              "       'Heads', 'Heads', 'Heads', 'Heads', 'Heads', 'Heads', 'Heads',\n",
              "       'Heads', 'Tails', 'Heads', 'Heads', 'Heads', 'Tails', 'Heads',\n",
              "       'Heads', 'Heads', 'Heads', 'Tails', 'Heads', 'Heads', 'Tails',\n",
              "       'Tails', 'Heads', 'Tails', 'Heads', 'Tails', 'Heads', 'Heads',\n",
              "       'Tails', 'Heads', 'Heads', 'Heads', 'Tails', 'Tails', 'Tails',\n",
              "       'Heads', 'Heads', 'Heads', 'Tails', 'Tails', 'Tails', 'Tails',\n",
              "       'Heads', 'Tails', 'Tails', 'Tails', 'Heads', 'Tails', 'Tails',\n",
              "       'Tails', 'Tails', 'Tails', 'Tails', 'Tails', 'Heads', 'Heads',\n",
              "       'Heads', 'Tails', 'Tails', 'Tails', 'Tails', 'Heads', 'Tails',\n",
              "       'Heads', 'Heads', 'Heads', 'Heads', 'Tails', 'Heads', 'Heads',\n",
              "       'Tails', 'Tails', 'Heads', 'Heads', 'Heads', 'Tails', 'Tails',\n",
              "       'Heads', 'Tails', 'Tails', 'Tails', 'Heads', 'Tails', 'Heads',\n",
              "       'Tails', 'Tails', 'Heads', 'Heads', 'Heads', 'Tails', 'Heads',\n",
              "       'Tails', 'Heads', 'Tails', 'Tails', 'Heads', 'Heads', 'Heads',\n",
              "       'Tails', 'Tails', 'Tails', 'Heads', 'Heads', 'Heads', 'Heads',\n",
              "       'Tails', 'Tails', 'Heads', 'Tails', 'Tails', 'Tails', 'Tails',\n",
              "       'Heads', 'Tails', 'Heads', 'Tails', 'Heads', 'Tails', 'Tails',\n",
              "       'Tails', 'Heads', 'Tails', 'Tails', 'Tails', 'Heads', 'Heads',\n",
              "       'Tails', 'Tails', 'Tails', 'Heads', 'Tails', 'Heads', 'Heads',\n",
              "       'Heads', 'Heads', 'Tails', 'Tails', 'Heads', 'Heads', 'Tails',\n",
              "       'Tails', 'Tails', 'Tails', 'Heads', 'Tails', 'Tails', 'Tails',\n",
              "       'Tails', 'Heads', 'Tails', 'Heads', 'Tails', 'Heads', 'Tails',\n",
              "       'Heads', 'Heads', 'Tails', 'Heads', 'Heads', 'Heads', 'Tails',\n",
              "       'Tails', 'Heads', 'Heads', 'Tails', 'Tails', 'Tails', 'Heads',\n",
              "       'Heads', 'Tails', 'Tails', 'Heads', 'Heads', 'Heads', 'Tails',\n",
              "       'Tails', 'Heads', 'Heads', 'Heads', 'Heads', 'Tails', 'Tails',\n",
              "       'Tails', 'Heads', 'Tails', 'Heads', 'Tails', 'Heads', 'Heads',\n",
              "       'Tails', 'Heads', 'Tails', 'Heads', 'Heads', 'Tails', 'Tails',\n",
              "       'Tails', 'Heads', 'Tails', 'Heads', 'Tails', 'Tails', 'Heads',\n",
              "       'Tails', 'Heads', 'Tails', 'Tails', 'Heads', 'Tails', 'Tails',\n",
              "       'Heads', 'Heads', 'Tails', 'Tails', 'Tails', 'Heads', 'Heads',\n",
              "       'Heads', 'Heads', 'Heads', 'Tails', 'Tails', 'Heads', 'Tails',\n",
              "       'Tails', 'Heads', 'Heads', 'Tails', 'Heads', 'Tails', 'Heads',\n",
              "       'Tails', 'Heads', 'Tails', 'Tails', 'Heads', 'Heads', 'Tails',\n",
              "       'Tails', 'Heads', 'Tails', 'Tails', 'Heads', 'Tails', 'Tails',\n",
              "       'Heads', 'Heads', 'Heads', 'Tails', 'Heads', 'Tails', 'Tails',\n",
              "       'Tails', 'Heads', 'Heads', 'Heads', 'Heads', 'Heads', 'Tails',\n",
              "       'Heads', 'Heads', 'Heads', 'Tails', 'Tails', 'Heads', 'Tails',\n",
              "       'Heads', 'Heads', 'Heads', 'Heads', 'Tails', 'Heads', 'Heads',\n",
              "       'Tails', 'Tails', 'Heads', 'Heads', 'Tails', 'Heads', 'Tails',\n",
              "       'Heads', 'Heads', 'Heads', 'Heads', 'Heads', 'Tails', 'Tails',\n",
              "       'Heads', 'Heads', 'Tails', 'Tails', 'Tails', 'Heads', 'Tails',\n",
              "       'Heads', 'Tails', 'Tails', 'Heads', 'Tails', 'Tails', 'Tails',\n",
              "       'Heads', 'Tails', 'Heads', 'Heads', 'Tails', 'Heads', 'Heads',\n",
              "       'Heads', 'Heads', 'Heads', 'Heads', 'Tails', 'Heads', 'Heads',\n",
              "       'Tails', 'Tails', 'Heads', 'Heads', 'Heads', 'Tails', 'Heads',\n",
              "       'Heads', 'Heads', 'Tails', 'Heads', 'Heads', 'Tails', 'Tails',\n",
              "       'Heads', 'Heads', 'Tails', 'Tails', 'Heads', 'Tails', 'Tails',\n",
              "       'Tails', 'Heads', 'Tails', 'Tails', 'Heads', 'Tails', 'Heads',\n",
              "       'Tails', 'Tails', 'Tails', 'Tails', 'Tails', 'Heads', 'Tails',\n",
              "       'Tails', 'Heads', 'Tails', 'Tails', 'Tails', 'Heads', 'Heads',\n",
              "       'Tails', 'Heads', 'Heads', 'Heads', 'Heads', 'Heads', 'Heads',\n",
              "       'Heads', 'Tails', 'Tails', 'Tails', 'Heads', 'Tails', 'Heads',\n",
              "       'Tails', 'Heads', 'Heads', 'Heads', 'Tails', 'Tails', 'Heads',\n",
              "       'Heads', 'Heads', 'Heads', 'Heads', 'Heads', 'Tails'], dtype='<U5')"
            ]
          },
          "metadata": {},
          "execution_count": 11
        }
      ]
    },
    {
      "cell_type": "code",
      "source": [
        "print(f\"The results of coin toss simulation for {number_of_thows} throws are {tosses}\")"
      ],
      "metadata": {
        "colab": {
          "base_uri": "https://localhost:8080/"
        },
        "collapsed": true,
        "id": "LeMy_J3QtNkC",
        "outputId": "b69f689c-4fc7-4dfe-e948-67d95366a104"
      },
      "execution_count": 12,
      "outputs": [
        {
          "output_type": "stream",
          "name": "stdout",
          "text": [
            "The results of coin toss simulation for 1000 throws are ['Tails' 'Heads' 'Tails' 'Tails' 'Tails' 'Heads' 'Heads' 'Tails' 'Tails'\n",
            " 'Heads' 'Heads' 'Tails' 'Heads' 'Heads' 'Tails' 'Heads' 'Heads' 'Tails'\n",
            " 'Heads' 'Tails' 'Tails' 'Tails' 'Tails' 'Tails' 'Tails' 'Tails' 'Tails'\n",
            " 'Heads' 'Tails' 'Heads' 'Heads' 'Tails' 'Heads' 'Tails' 'Heads' 'Heads'\n",
            " 'Heads' 'Heads' 'Tails' 'Heads' 'Heads' 'Tails' 'Tails' 'Heads' 'Heads'\n",
            " 'Tails' 'Tails' 'Heads' 'Heads' 'Tails' 'Heads' 'Heads' 'Tails' 'Heads'\n",
            " 'Tails' 'Heads' 'Tails' 'Heads' 'Heads' 'Tails' 'Tails' 'Heads' 'Tails'\n",
            " 'Tails' 'Tails' 'Heads' 'Heads' 'Tails' 'Heads' 'Heads' 'Heads' 'Heads'\n",
            " 'Tails' 'Tails' 'Tails' 'Tails' 'Heads' 'Heads' 'Heads' 'Heads' 'Heads'\n",
            " 'Tails' 'Tails' 'Tails' 'Tails' 'Heads' 'Tails' 'Heads' 'Tails' 'Heads'\n",
            " 'Heads' 'Heads' 'Heads' 'Heads' 'Heads' 'Tails' 'Heads' 'Tails' 'Heads'\n",
            " 'Tails' 'Heads' 'Tails' 'Heads' 'Heads' 'Tails' 'Tails' 'Heads' 'Tails'\n",
            " 'Heads' 'Heads' 'Tails' 'Tails' 'Tails' 'Tails' 'Heads' 'Heads' 'Tails'\n",
            " 'Tails' 'Heads' 'Heads' 'Heads' 'Heads' 'Tails' 'Heads' 'Heads' 'Tails'\n",
            " 'Tails' 'Heads' 'Heads' 'Heads' 'Tails' 'Tails' 'Heads' 'Heads' 'Tails'\n",
            " 'Heads' 'Tails' 'Heads' 'Tails' 'Heads' 'Heads' 'Tails' 'Tails' 'Tails'\n",
            " 'Tails' 'Heads' 'Heads' 'Heads' 'Tails' 'Tails' 'Heads' 'Tails' 'Heads'\n",
            " 'Heads' 'Heads' 'Heads' 'Heads' 'Tails' 'Heads' 'Heads' 'Heads' 'Tails'\n",
            " 'Heads' 'Heads' 'Tails' 'Heads' 'Tails' 'Tails' 'Heads' 'Tails' 'Heads'\n",
            " 'Heads' 'Heads' 'Heads' 'Tails' 'Heads' 'Tails' 'Heads' 'Tails' 'Tails'\n",
            " 'Heads' 'Tails' 'Tails' 'Tails' 'Tails' 'Heads' 'Tails' 'Heads' 'Tails'\n",
            " 'Heads' 'Tails' 'Tails' 'Heads' 'Tails' 'Heads' 'Tails' 'Heads' 'Tails'\n",
            " 'Tails' 'Tails' 'Tails' 'Tails' 'Tails' 'Tails' 'Tails' 'Heads' 'Heads'\n",
            " 'Heads' 'Heads' 'Heads' 'Tails' 'Heads' 'Tails' 'Tails' 'Heads' 'Tails'\n",
            " 'Heads' 'Tails' 'Heads' 'Tails' 'Heads' 'Heads' 'Heads' 'Heads' 'Heads'\n",
            " 'Heads' 'Heads' 'Tails' 'Heads' 'Tails' 'Heads' 'Heads' 'Tails' 'Tails'\n",
            " 'Tails' 'Tails' 'Tails' 'Heads' 'Tails' 'Tails' 'Tails' 'Tails' 'Tails'\n",
            " 'Heads' 'Tails' 'Tails' 'Heads' 'Tails' 'Tails' 'Heads' 'Tails' 'Heads'\n",
            " 'Tails' 'Tails' 'Tails' 'Heads' 'Heads' 'Heads' 'Heads' 'Heads' 'Heads'\n",
            " 'Tails' 'Tails' 'Heads' 'Heads' 'Tails' 'Heads' 'Tails' 'Tails' 'Heads'\n",
            " 'Heads' 'Heads' 'Heads' 'Heads' 'Heads' 'Heads' 'Heads' 'Heads' 'Tails'\n",
            " 'Heads' 'Tails' 'Tails' 'Heads' 'Heads' 'Tails' 'Heads' 'Heads' 'Tails'\n",
            " 'Heads' 'Tails' 'Tails' 'Tails' 'Tails' 'Tails' 'Heads' 'Tails' 'Tails'\n",
            " 'Heads' 'Tails' 'Tails' 'Tails' 'Tails' 'Heads' 'Heads' 'Tails' 'Tails'\n",
            " 'Tails' 'Tails' 'Tails' 'Tails' 'Tails' 'Heads' 'Tails' 'Heads' 'Tails'\n",
            " 'Tails' 'Tails' 'Tails' 'Heads' 'Heads' 'Heads' 'Tails' 'Tails' 'Tails'\n",
            " 'Tails' 'Tails' 'Tails' 'Tails' 'Tails' 'Heads' 'Heads' 'Tails' 'Heads'\n",
            " 'Heads' 'Heads' 'Tails' 'Tails' 'Tails' 'Tails' 'Tails' 'Heads' 'Tails'\n",
            " 'Heads' 'Heads' 'Heads' 'Tails' 'Tails' 'Heads' 'Heads' 'Heads' 'Tails'\n",
            " 'Heads' 'Heads' 'Tails' 'Tails' 'Heads' 'Heads' 'Tails' 'Heads' 'Heads'\n",
            " 'Tails' 'Heads' 'Heads' 'Heads' 'Tails' 'Heads' 'Tails' 'Tails' 'Heads'\n",
            " 'Heads' 'Heads' 'Tails' 'Tails' 'Tails' 'Heads' 'Heads' 'Heads' 'Tails'\n",
            " 'Heads' 'Heads' 'Heads' 'Heads' 'Heads' 'Tails' 'Heads' 'Tails' 'Tails'\n",
            " 'Tails' 'Tails' 'Heads' 'Heads' 'Tails' 'Heads' 'Tails' 'Tails' 'Tails'\n",
            " 'Tails' 'Heads' 'Tails' 'Heads' 'Tails' 'Heads' 'Heads' 'Tails' 'Tails'\n",
            " 'Tails' 'Tails' 'Tails' 'Heads' 'Heads' 'Heads' 'Heads' 'Tails' 'Tails'\n",
            " 'Tails' 'Heads' 'Heads' 'Heads' 'Tails' 'Heads' 'Heads' 'Heads' 'Heads'\n",
            " 'Heads' 'Heads' 'Heads' 'Tails' 'Heads' 'Heads' 'Heads' 'Heads' 'Heads'\n",
            " 'Tails' 'Tails' 'Heads' 'Heads' 'Tails' 'Tails' 'Heads' 'Tails' 'Heads'\n",
            " 'Tails' 'Tails' 'Heads' 'Heads' 'Heads' 'Heads' 'Heads' 'Heads' 'Tails'\n",
            " 'Heads' 'Tails' 'Heads' 'Tails' 'Tails' 'Tails' 'Heads' 'Heads' 'Tails'\n",
            " 'Tails' 'Heads' 'Heads' 'Heads' 'Heads' 'Tails' 'Tails' 'Heads' 'Tails'\n",
            " 'Tails' 'Heads' 'Tails' 'Heads' 'Tails' 'Tails' 'Tails' 'Tails' 'Tails'\n",
            " 'Tails' 'Tails' 'Heads' 'Tails' 'Tails' 'Heads' 'Tails' 'Heads' 'Tails'\n",
            " 'Tails' 'Tails' 'Tails' 'Heads' 'Heads' 'Tails' 'Tails' 'Tails' 'Heads'\n",
            " 'Tails' 'Heads' 'Tails' 'Heads' 'Tails' 'Heads' 'Heads' 'Tails' 'Heads'\n",
            " 'Tails' 'Heads' 'Tails' 'Tails' 'Heads' 'Heads' 'Heads' 'Tails' 'Tails'\n",
            " 'Heads' 'Heads' 'Heads' 'Tails' 'Tails' 'Tails' 'Heads' 'Heads' 'Tails'\n",
            " 'Tails' 'Heads' 'Heads' 'Tails' 'Tails' 'Heads' 'Tails' 'Tails' 'Tails'\n",
            " 'Tails' 'Tails' 'Heads' 'Heads' 'Tails' 'Heads' 'Heads' 'Heads' 'Heads'\n",
            " 'Tails' 'Tails' 'Tails' 'Heads' 'Heads' 'Heads' 'Tails' 'Heads' 'Tails'\n",
            " 'Tails' 'Tails' 'Heads' 'Heads' 'Tails' 'Tails' 'Heads' 'Heads' 'Tails'\n",
            " 'Heads' 'Tails' 'Tails' 'Heads' 'Heads' 'Heads' 'Tails' 'Heads' 'Heads'\n",
            " 'Tails' 'Heads' 'Heads' 'Tails' 'Tails' 'Tails' 'Tails' 'Heads' 'Tails'\n",
            " 'Heads' 'Tails' 'Heads' 'Heads' 'Tails' 'Heads' 'Heads' 'Tails' 'Heads'\n",
            " 'Heads' 'Heads' 'Tails' 'Heads' 'Heads' 'Tails' 'Tails' 'Tails' 'Heads'\n",
            " 'Tails' 'Tails' 'Heads' 'Heads' 'Tails' 'Tails' 'Tails' 'Heads' 'Heads'\n",
            " 'Heads' 'Heads' 'Tails' 'Tails' 'Heads' 'Tails' 'Heads' 'Heads' 'Tails'\n",
            " 'Tails' 'Tails' 'Heads' 'Heads' 'Heads' 'Heads' 'Heads' 'Heads' 'Heads'\n",
            " 'Heads' 'Heads' 'Heads' 'Tails' 'Heads' 'Heads' 'Heads' 'Tails' 'Heads'\n",
            " 'Heads' 'Heads' 'Heads' 'Tails' 'Heads' 'Heads' 'Tails' 'Tails' 'Heads'\n",
            " 'Tails' 'Heads' 'Tails' 'Heads' 'Heads' 'Tails' 'Heads' 'Heads' 'Heads'\n",
            " 'Tails' 'Tails' 'Tails' 'Heads' 'Heads' 'Heads' 'Tails' 'Tails' 'Tails'\n",
            " 'Tails' 'Heads' 'Tails' 'Tails' 'Tails' 'Heads' 'Tails' 'Tails' 'Tails'\n",
            " 'Tails' 'Tails' 'Tails' 'Tails' 'Heads' 'Heads' 'Heads' 'Tails' 'Tails'\n",
            " 'Tails' 'Tails' 'Heads' 'Tails' 'Heads' 'Heads' 'Heads' 'Heads' 'Tails'\n",
            " 'Heads' 'Heads' 'Tails' 'Tails' 'Heads' 'Heads' 'Heads' 'Tails' 'Tails'\n",
            " 'Heads' 'Tails' 'Tails' 'Tails' 'Heads' 'Tails' 'Heads' 'Tails' 'Tails'\n",
            " 'Heads' 'Heads' 'Heads' 'Tails' 'Heads' 'Tails' 'Heads' 'Tails' 'Tails'\n",
            " 'Heads' 'Heads' 'Heads' 'Tails' 'Tails' 'Tails' 'Heads' 'Heads' 'Heads'\n",
            " 'Heads' 'Tails' 'Tails' 'Heads' 'Tails' 'Tails' 'Tails' 'Tails' 'Heads'\n",
            " 'Tails' 'Heads' 'Tails' 'Heads' 'Tails' 'Tails' 'Tails' 'Heads' 'Tails'\n",
            " 'Tails' 'Tails' 'Heads' 'Heads' 'Tails' 'Tails' 'Tails' 'Heads' 'Tails'\n",
            " 'Heads' 'Heads' 'Heads' 'Heads' 'Tails' 'Tails' 'Heads' 'Heads' 'Tails'\n",
            " 'Tails' 'Tails' 'Tails' 'Heads' 'Tails' 'Tails' 'Tails' 'Tails' 'Heads'\n",
            " 'Tails' 'Heads' 'Tails' 'Heads' 'Tails' 'Heads' 'Heads' 'Tails' 'Heads'\n",
            " 'Heads' 'Heads' 'Tails' 'Tails' 'Heads' 'Heads' 'Tails' 'Tails' 'Tails'\n",
            " 'Heads' 'Heads' 'Tails' 'Tails' 'Heads' 'Heads' 'Heads' 'Tails' 'Tails'\n",
            " 'Heads' 'Heads' 'Heads' 'Heads' 'Tails' 'Tails' 'Tails' 'Heads' 'Tails'\n",
            " 'Heads' 'Tails' 'Heads' 'Heads' 'Tails' 'Heads' 'Tails' 'Heads' 'Heads'\n",
            " 'Tails' 'Tails' 'Tails' 'Heads' 'Tails' 'Heads' 'Tails' 'Tails' 'Heads'\n",
            " 'Tails' 'Heads' 'Tails' 'Tails' 'Heads' 'Tails' 'Tails' 'Heads' 'Heads'\n",
            " 'Tails' 'Tails' 'Tails' 'Heads' 'Heads' 'Heads' 'Heads' 'Heads' 'Tails'\n",
            " 'Tails' 'Heads' 'Tails' 'Tails' 'Heads' 'Heads' 'Tails' 'Heads' 'Tails'\n",
            " 'Heads' 'Tails' 'Heads' 'Tails' 'Tails' 'Heads' 'Heads' 'Tails' 'Tails'\n",
            " 'Heads' 'Tails' 'Tails' 'Heads' 'Tails' 'Tails' 'Heads' 'Heads' 'Heads'\n",
            " 'Tails' 'Heads' 'Tails' 'Tails' 'Tails' 'Heads' 'Heads' 'Heads' 'Heads'\n",
            " 'Heads' 'Tails' 'Heads' 'Heads' 'Heads' 'Tails' 'Tails' 'Heads' 'Tails'\n",
            " 'Heads' 'Heads' 'Heads' 'Heads' 'Tails' 'Heads' 'Heads' 'Tails' 'Tails'\n",
            " 'Heads' 'Heads' 'Tails' 'Heads' 'Tails' 'Heads' 'Heads' 'Heads' 'Heads'\n",
            " 'Heads' 'Tails' 'Tails' 'Heads' 'Heads' 'Tails' 'Tails' 'Tails' 'Heads'\n",
            " 'Tails' 'Heads' 'Tails' 'Tails' 'Heads' 'Tails' 'Tails' 'Tails' 'Heads'\n",
            " 'Tails' 'Heads' 'Heads' 'Tails' 'Heads' 'Heads' 'Heads' 'Heads' 'Heads'\n",
            " 'Heads' 'Tails' 'Heads' 'Heads' 'Tails' 'Tails' 'Heads' 'Heads' 'Heads'\n",
            " 'Tails' 'Heads' 'Heads' 'Heads' 'Tails' 'Heads' 'Heads' 'Tails' 'Tails'\n",
            " 'Heads' 'Heads' 'Tails' 'Tails' 'Heads' 'Tails' 'Tails' 'Tails' 'Heads'\n",
            " 'Tails' 'Tails' 'Heads' 'Tails' 'Heads' 'Tails' 'Tails' 'Tails' 'Tails'\n",
            " 'Tails' 'Heads' 'Tails' 'Tails' 'Heads' 'Tails' 'Tails' 'Tails' 'Heads'\n",
            " 'Heads' 'Tails' 'Heads' 'Heads' 'Heads' 'Heads' 'Heads' 'Heads' 'Heads'\n",
            " 'Tails' 'Tails' 'Tails' 'Heads' 'Tails' 'Heads' 'Tails' 'Heads' 'Heads'\n",
            " 'Heads' 'Tails' 'Tails' 'Heads' 'Heads' 'Heads' 'Heads' 'Heads' 'Heads'\n",
            " 'Tails']\n"
          ]
        }
      ]
    },
    {
      "cell_type": "markdown",
      "source": [
        "https://numpy.org/doc/stable/reference/generated/numpy.sum.html"
      ],
      "metadata": {
        "id": "I-3qAC57t822"
      }
    },
    {
      "cell_type": "code",
      "source": [
        "nr_heads = np.sum(tosses == \"Heads\") # Number of Heads\n",
        "nr_tails = np.sum(tosses == \"Tails\") # Number of Tails\n",
        "\n",
        "print(f\"Count for Heads: {nr_heads}, count for Tails: {nr_tails}\")"
      ],
      "metadata": {
        "colab": {
          "base_uri": "https://localhost:8080/"
        },
        "id": "jQsaCtdxt4nM",
        "outputId": "09830e1e-6a80-42ee-d2e1-570f5080e8b2"
      },
      "execution_count": 17,
      "outputs": [
        {
          "output_type": "stream",
          "name": "stdout",
          "text": [
            "Count for Heads: 509, count for Tails: 491\n"
          ]
        }
      ]
    },
    {
      "cell_type": "code",
      "source": [
        "# Probabilities\n",
        "\n",
        "prob_heads = nr_heads / number_of_thows\n",
        "prob_tails = tails / number_of_thows\n",
        "\n",
        "print(f\"Probability for Heads: {prob_heads}, probability for Tails: {prob_tails}\")"
      ],
      "metadata": {
        "colab": {
          "base_uri": "https://localhost:8080/"
        },
        "id": "bG9godvYuaTq",
        "outputId": "4e765188-7003-4152-e0f9-98b78bf89688"
      },
      "execution_count": 19,
      "outputs": [
        {
          "output_type": "stream",
          "name": "stdout",
          "text": [
            "Probability for Heads: 0.509, probability for Tails: 0.491\n"
          ]
        }
      ]
    },
    {
      "cell_type": "markdown",
      "source": [
        "# NumPy"
      ],
      "metadata": {
        "id": "36YJNtSNvyTE"
      }
    },
    {
      "cell_type": "code",
      "source": [
        "my_list = [1, 2, 3] #Python list\n",
        "my_list"
      ],
      "metadata": {
        "colab": {
          "base_uri": "https://localhost:8080/"
        },
        "id": "9rwshTMzvMnf",
        "outputId": "d87121f4-2585-4566-9a3a-90e2ec71903e"
      },
      "execution_count": 21,
      "outputs": [
        {
          "output_type": "execute_result",
          "data": {
            "text/plain": [
              "[1, 2, 3]"
            ]
          },
          "metadata": {},
          "execution_count": 21
        }
      ]
    },
    {
      "cell_type": "code",
      "source": [
        "import sys"
      ],
      "metadata": {
        "id": "bD8Ei0DvydbY"
      },
      "execution_count": 22,
      "outputs": []
    },
    {
      "cell_type": "code",
      "source": [
        "size_of_py_list = sys.getsizeof(my_list)\n",
        "print(\"Size of the python list is\", size_of_py_list) #in byes"
      ],
      "metadata": {
        "colab": {
          "base_uri": "https://localhost:8080/"
        },
        "id": "C_M9A6rRyg5l",
        "outputId": "121dbe63-f8c1-40aa-80a5-29a75e6cb4e5"
      },
      "execution_count": 24,
      "outputs": [
        {
          "output_type": "stream",
          "name": "stdout",
          "text": [
            "Size of the python list is 88\n"
          ]
        }
      ]
    },
    {
      "cell_type": "code",
      "source": [
        "my_array = np.array(my_list)\n",
        "my_array"
      ],
      "metadata": {
        "colab": {
          "base_uri": "https://localhost:8080/"
        },
        "id": "NrmNxylgy6jN",
        "outputId": "2d6c9e2f-221d-4db5-f9a4-264a1a9a7e28"
      },
      "execution_count": 25,
      "outputs": [
        {
          "output_type": "execute_result",
          "data": {
            "text/plain": [
              "array([1, 2, 3])"
            ]
          },
          "metadata": {},
          "execution_count": 25
        }
      ]
    },
    {
      "cell_type": "code",
      "source": [
        "size_of_array = my_array.nbytes\n",
        "print(\"Size of the numpy array is:\", size_of_array) #almost 3x less that PY list"
      ],
      "metadata": {
        "colab": {
          "base_uri": "https://localhost:8080/"
        },
        "id": "48gfBF_9zNv2",
        "outputId": "ab8e13dc-c67f-4c52-c748-35a988653621"
      },
      "execution_count": 26,
      "outputs": [
        {
          "output_type": "stream",
          "name": "stdout",
          "text": [
            "Size of the numpy array is: 24\n"
          ]
        }
      ]
    },
    {
      "cell_type": "markdown",
      "source": [
        "https://stackoverflow.com/questions/993984/what-are-the-advantages-of-numpy-over-regular-python-lists"
      ],
      "metadata": {
        "id": "_eOPNxcxz9q7"
      }
    },
    {
      "cell_type": "code",
      "source": [
        "test_list = [1, 2, 3, 'Test', 0.3, True]  # Python list of different types\n",
        "test_list"
      ],
      "metadata": {
        "colab": {
          "base_uri": "https://localhost:8080/"
        },
        "id": "0vMTyTobztDX",
        "outputId": "cf62ba7e-7a79-4fd8-e749-c87c5b22240a"
      },
      "execution_count": 27,
      "outputs": [
        {
          "output_type": "execute_result",
          "data": {
            "text/plain": [
              "[1, 2, 3, 'Test', 0.3, True]"
            ]
          },
          "metadata": {},
          "execution_count": 27
        }
      ]
    },
    {
      "cell_type": "code",
      "source": [
        "test_list_array = np.array(test_list) # NumPy array, values transpormed to string because Numpy array can hold only one type of values\n",
        "test_list_array"
      ],
      "metadata": {
        "colab": {
          "base_uri": "https://localhost:8080/"
        },
        "id": "0DeBBNEu2GUB",
        "outputId": "f9f10cf7-9473-4536-eac6-b885fa3b0277"
      },
      "execution_count": 28,
      "outputs": [
        {
          "output_type": "execute_result",
          "data": {
            "text/plain": [
              "array(['1', '2', '3', 'Test', '0.3', 'True'], dtype='<U32')"
            ]
          },
          "metadata": {},
          "execution_count": 28
        }
      ]
    },
    {
      "cell_type": "markdown",
      "source": [
        "# Built-In Methods in NumPy"
      ],
      "metadata": {
        "id": "ro0ZSF6821eK"
      }
    },
    {
      "cell_type": "markdown",
      "source": [
        "### Arange"
      ],
      "metadata": {
        "id": "xxOqPXqS4Lpo"
      }
    },
    {
      "cell_type": "markdown",
      "source": [
        "https://numpy.org/doc/stable/reference/generated/numpy.arange.html"
      ],
      "metadata": {
        "id": "vhmSBQl05hmo"
      }
    },
    {
      "cell_type": "code",
      "source": [
        "np.arange(10)"
      ],
      "metadata": {
        "colab": {
          "base_uri": "https://localhost:8080/"
        },
        "id": "3Se6YXTn2U4h",
        "outputId": "da70c162-716c-4c9c-b3d5-d23f06a30f1c"
      },
      "execution_count": 30,
      "outputs": [
        {
          "output_type": "execute_result",
          "data": {
            "text/plain": [
              "array([0, 1, 2, 3, 4, 5, 6, 7, 8, 9])"
            ]
          },
          "metadata": {},
          "execution_count": 30
        }
      ]
    },
    {
      "cell_type": "code",
      "source": [
        "np.arange(5, 10)  #last value is not included, forst is"
      ],
      "metadata": {
        "colab": {
          "base_uri": "https://localhost:8080/"
        },
        "id": "LFTE3CXU52bm",
        "outputId": "91ca2abc-5a74-496a-f887-5734e4862b53"
      },
      "execution_count": 31,
      "outputs": [
        {
          "output_type": "execute_result",
          "data": {
            "text/plain": [
              "array([5, 6, 7, 8, 9])"
            ]
          },
          "metadata": {},
          "execution_count": 31
        }
      ]
    },
    {
      "cell_type": "code",
      "source": [
        "np.arange(10, 20, 3)  # start point, end point, step"
      ],
      "metadata": {
        "colab": {
          "base_uri": "https://localhost:8080/"
        },
        "id": "5zNFSmFq6DTf",
        "outputId": "5a971c90-8ec8-47cc-e265-968a0418bf05"
      },
      "execution_count": 36,
      "outputs": [
        {
          "output_type": "execute_result",
          "data": {
            "text/plain": [
              "array([10, 13, 16, 19])"
            ]
          },
          "metadata": {},
          "execution_count": 36
        }
      ]
    },
    {
      "cell_type": "markdown",
      "source": [
        "### Zeroes"
      ],
      "metadata": {
        "id": "P1NXg6mq6odh"
      }
    },
    {
      "cell_type": "markdown",
      "source": [
        "https://numpy.org/doc/stable/reference/generated/numpy.zeros.html"
      ],
      "metadata": {
        "id": "gTMCzwjt6zMc"
      }
    },
    {
      "cell_type": "code",
      "source": [
        "np.zeros(3)"
      ],
      "metadata": {
        "colab": {
          "base_uri": "https://localhost:8080/"
        },
        "id": "OhooHAJF6qFo",
        "outputId": "f025b0f1-d880-4bfc-f25a-eacc8d2e46be"
      },
      "execution_count": 37,
      "outputs": [
        {
          "output_type": "execute_result",
          "data": {
            "text/plain": [
              "array([0., 0., 0.])"
            ]
          },
          "metadata": {},
          "execution_count": 37
        }
      ]
    },
    {
      "cell_type": "code",
      "source": [
        "np.zeros((5,5))"
      ],
      "metadata": {
        "colab": {
          "base_uri": "https://localhost:8080/"
        },
        "id": "9o-K6YJS60RQ",
        "outputId": "29513145-2928-4c93-ebaa-50f263dc1af3"
      },
      "execution_count": 38,
      "outputs": [
        {
          "output_type": "execute_result",
          "data": {
            "text/plain": [
              "array([[0., 0., 0., 0., 0.],\n",
              "       [0., 0., 0., 0., 0.],\n",
              "       [0., 0., 0., 0., 0.],\n",
              "       [0., 0., 0., 0., 0.],\n",
              "       [0., 0., 0., 0., 0.]])"
            ]
          },
          "metadata": {},
          "execution_count": 38
        }
      ]
    },
    {
      "cell_type": "markdown",
      "source": [
        "### Ones"
      ],
      "metadata": {
        "id": "ILWO_GYz7dwf"
      }
    },
    {
      "cell_type": "code",
      "source": [
        "np.ones(3)"
      ],
      "metadata": {
        "colab": {
          "base_uri": "https://localhost:8080/"
        },
        "id": "ztFL3NFz7mdB",
        "outputId": "aa45507e-c656-414a-b645-22adbd0111f6"
      },
      "execution_count": 44,
      "outputs": [
        {
          "output_type": "execute_result",
          "data": {
            "text/plain": [
              "array([1., 1., 1.])"
            ]
          },
          "metadata": {},
          "execution_count": 44
        }
      ]
    },
    {
      "cell_type": "code",
      "source": [
        "np.ones((5,7))"
      ],
      "metadata": {
        "colab": {
          "base_uri": "https://localhost:8080/"
        },
        "id": "68ordAQu7AE1",
        "outputId": "ebb8b4c5-2156-4c1d-f7f1-889ae8411ffc"
      },
      "execution_count": 45,
      "outputs": [
        {
          "output_type": "execute_result",
          "data": {
            "text/plain": [
              "array([[1., 1., 1., 1., 1., 1., 1.],\n",
              "       [1., 1., 1., 1., 1., 1., 1.],\n",
              "       [1., 1., 1., 1., 1., 1., 1.],\n",
              "       [1., 1., 1., 1., 1., 1., 1.],\n",
              "       [1., 1., 1., 1., 1., 1., 1.]])"
            ]
          },
          "metadata": {},
          "execution_count": 45
        }
      ]
    },
    {
      "cell_type": "markdown",
      "source": [
        "### Linspace"
      ],
      "metadata": {
        "id": "W_3qJcd-_Szx"
      }
    },
    {
      "cell_type": "markdown",
      "source": [
        "Return evenly spaced numbers over a specified interval.\n",
        "\n",
        "https://numpy.org/doc/stable/reference/generated/numpy.linspace.html"
      ],
      "metadata": {
        "id": "zG-Dc_IY_X4z"
      }
    },
    {
      "cell_type": "code",
      "source": [
        "np.linspace(100, 200, 51) # last one is nr of items in array"
      ],
      "metadata": {
        "colab": {
          "base_uri": "https://localhost:8080/"
        },
        "id": "lt4Q8AVt_SeA",
        "outputId": "3ebe16b7-ca33-4799-99ea-7d03bbdb4985"
      },
      "execution_count": 59,
      "outputs": [
        {
          "output_type": "execute_result",
          "data": {
            "text/plain": [
              "array([100., 102., 104., 106., 108., 110., 112., 114., 116., 118., 120.,\n",
              "       122., 124., 126., 128., 130., 132., 134., 136., 138., 140., 142.,\n",
              "       144., 146., 148., 150., 152., 154., 156., 158., 160., 162., 164.,\n",
              "       166., 168., 170., 172., 174., 176., 178., 180., 182., 184., 186.,\n",
              "       188., 190., 192., 194., 196., 198., 200.])"
            ]
          },
          "metadata": {},
          "execution_count": 59
        }
      ]
    },
    {
      "cell_type": "markdown",
      "source": [
        "### EYE - identyty matrix"
      ],
      "metadata": {
        "id": "5gB3g34kAcnR"
      }
    },
    {
      "cell_type": "markdown",
      "source": [
        "https://numpy.org/doc/stable/reference/generated/numpy.eye.html"
      ],
      "metadata": {
        "id": "GKKN8dRkAom7"
      }
    },
    {
      "cell_type": "code",
      "source": [
        "np.eye(4)"
      ],
      "metadata": {
        "colab": {
          "base_uri": "https://localhost:8080/"
        },
        "id": "TUCuHTrsAkE_",
        "outputId": "1d313dcb-c8b4-48e0-a38c-471431c41bc7"
      },
      "execution_count": 60,
      "outputs": [
        {
          "output_type": "execute_result",
          "data": {
            "text/plain": [
              "array([[1., 0., 0., 0.],\n",
              "       [0., 1., 0., 0.],\n",
              "       [0., 0., 1., 0.],\n",
              "       [0., 0., 0., 1.]])"
            ]
          },
          "metadata": {},
          "execution_count": 60
        }
      ]
    },
    {
      "cell_type": "markdown",
      "source": [
        "### Random"
      ],
      "metadata": {
        "id": "O05WqWUTBAsc"
      }
    },
    {
      "cell_type": "markdown",
      "source": [
        "https://numpy.org/doc/stable/reference/random/generated/numpy.random.RandomState.rand.html#numpy.random.RandomState.rand"
      ],
      "metadata": {
        "id": "lflNwDncBU1e"
      }
    },
    {
      "cell_type": "code",
      "source": [
        "np.random.rand(2)"
      ],
      "metadata": {
        "colab": {
          "base_uri": "https://localhost:8080/"
        },
        "id": "n8ymM9P6BAY-",
        "outputId": "4fbfddc9-698b-4da3-ae9b-1ae448e08c17"
      },
      "execution_count": 64,
      "outputs": [
        {
          "output_type": "execute_result",
          "data": {
            "text/plain": [
              "array([0.45273825, 0.30056726])"
            ]
          },
          "metadata": {},
          "execution_count": 64
        }
      ]
    },
    {
      "cell_type": "code",
      "source": [
        "np.random.rand(2, 4)"
      ],
      "metadata": {
        "colab": {
          "base_uri": "https://localhost:8080/"
        },
        "id": "norSGOHhBgye",
        "outputId": "4ef6ea27-2fec-4ba4-9482-91badbb439f5"
      },
      "execution_count": 65,
      "outputs": [
        {
          "output_type": "execute_result",
          "data": {
            "text/plain": [
              "array([[0.77179774, 0.73280863, 0.95329818, 0.71699726],\n",
              "       [0.19785001, 0.97612919, 0.80453777, 0.740703  ]])"
            ]
          },
          "metadata": {},
          "execution_count": 65
        }
      ]
    },
    {
      "cell_type": "markdown",
      "source": [
        "#### Visualizing"
      ],
      "metadata": {
        "id": "GD5wQT07B6NL"
      }
    },
    {
      "cell_type": "code",
      "source": [
        "coordinates = np.random.rand(2)\n",
        "\n",
        "x = coordinates[0]\n",
        "y = coordinates[1]\n",
        "\n",
        "import matplotlib.pyplot as plt\n",
        "\n",
        "plt.scatter(x, y, s = 100, color = 'blue')\n",
        "plt.title('Randomly selected coordinates')\n",
        "plt.xlabel('X')\n",
        "plt.ylabel('Y')\n",
        "plt.grid(True)"
      ],
      "metadata": {
        "colab": {
          "base_uri": "https://localhost:8080/",
          "height": 472
        },
        "id": "6d1FwuKzBkal",
        "outputId": "f1ab720f-3a6c-4420-e0fa-ad9b9ab0c78f"
      },
      "execution_count": 78,
      "outputs": [
        {
          "output_type": "display_data",
          "data": {
            "text/plain": [
              "<Figure size 640x480 with 1 Axes>"
            ],
            "image/png": "[encoded data removed]"
          },
          "metadata": {}
        }
      ]
    },
    {
      "cell_type": "markdown",
      "source": [
        "#### Uniformed Distribution"
      ],
      "metadata": {
        "id": "b6arUdvYErxg"
      }
    },
    {
      "cell_type": "code",
      "source": [
        "coordinates2 = np.random.rand(100000, 2)    # rand - uniform distribution\n",
        "coordinates2"
      ],
      "metadata": {
        "colab": {
          "base_uri": "https://localhost:8080/"
        },
        "id": "1R10PQlqDEQ1",
        "outputId": "e5ec62c5-cf49-43c3-b417-79244afacd4e"
      },
      "execution_count": 88,
      "outputs": [
        {
          "output_type": "execute_result",
          "data": {
            "text/plain": [
              "array([[0.06198309, 0.12700114],\n",
              "       [0.69536837, 0.22933332],\n",
              "       [0.54939113, 0.49838414],\n",
              "       ...,\n",
              "       [0.96541955, 0.4235709 ],\n",
              "       [0.00842025, 0.84375055],\n",
              "       [0.15067491, 0.39946014]])"
            ]
          },
          "metadata": {},
          "execution_count": 88
        }
      ]
    },
    {
      "cell_type": "code",
      "source": [
        "x2 = coordinates2[:,0]  # : all the rows from the first column\n",
        "y2 = coordinates2[:,1]  # : all the rows from the second column\n",
        "\n",
        "plt.scatter(x2, y2, color = 'blue')\n",
        "plt.title('100000 randomly selected coordinates - uniform distribution')\n",
        "plt.xlabel('X')\n",
        "plt.ylabel('Y')\n",
        "plt.grid(True)"
      ],
      "metadata": {
        "colab": {
          "base_uri": "https://localhost:8080/",
          "height": 472
        },
        "id": "PSJMIgFSDOU8",
        "outputId": "ce65613e-356c-49e2-eebe-c91df7f52a9c"
      },
      "execution_count": 93,
      "outputs": [
        {
          "output_type": "display_data",
          "data": {
            "text/plain": [
              "<Figure size 640x480 with 1 Axes>"
            ],
            "image/png": "[encoded data removed]"
          },
          "metadata": {}
        }
      ]
    },
    {
      "cell_type": "markdown",
      "source": [
        "#### Normal Distribution"
      ],
      "metadata": {
        "id": "vIu3A3OdEuRT"
      }
    },
    {
      "cell_type": "code",
      "source": [
        "coordinates3 = np.random.randn(100000, 2)   # randn - normal distrubution\n",
        "coordinates3\n",
        "\n",
        "x3 = coordinates3[:, 0] #all the rows from the first column\n",
        "\n",
        "y3 = coordinates3[:, 1] #all the rows from the first column\n",
        "\n",
        "plt.scatter(x3, y3, s=1, c=x3, cmap='rainbow')\n",
        "plt.title('100000 randomly selected coordinates - normal distribution')\n",
        "plt.xlabel('X')\n",
        "plt.ylabel('Y')\n",
        "plt.grid(True)"
      ],
      "metadata": {
        "colab": {
          "base_uri": "https://localhost:8080/",
          "height": 472
        },
        "id": "IjyCGz6ZEqQm",
        "outputId": "65277188-3117-440d-8a6a-ef4d4469317e"
      },
      "execution_count": 98,
      "outputs": [
        {
          "output_type": "display_data",
          "data": {
            "text/plain": [
              "<Figure size 640x480 with 1 Axes>"
            ],
            "image/png": "[encoded data removed]"
          },
          "metadata": {}
        }
      ]
    },
    {
      "cell_type": "markdown",
      "source": [
        "### Randint"
      ],
      "metadata": {
        "id": "_c9TS7BVGQFP"
      }
    },
    {
      "cell_type": "markdown",
      "source": [
        "https://numpy.org/doc/stable/reference/random/generated/numpy.random.randint.html#numpy.random.randint"
      ],
      "metadata": {
        "id": "80aUb_lvGtEz"
      }
    },
    {
      "cell_type": "code",
      "source": [
        "np.random.randint(1,100)  #start - 1, (inclusive), 100 - end value"
      ],
      "metadata": {
        "colab": {
          "base_uri": "https://localhost:8080/"
        },
        "id": "g3IqrgKmGSK1",
        "outputId": "10e33533-4e46-42d1-dc50-f35f1b278191"
      },
      "execution_count": 103,
      "outputs": [
        {
          "output_type": "execute_result",
          "data": {
            "text/plain": [
              "91"
            ]
          },
          "metadata": {},
          "execution_count": 103
        }
      ]
    },
    {
      "cell_type": "code",
      "source": [
        "np.random.randint(1, 100, 10)"
      ],
      "metadata": {
        "colab": {
          "base_uri": "https://localhost:8080/"
        },
        "id": "ZfQQM5VbGufJ",
        "outputId": "9a2d7848-e362-459d-c9cb-79bec6e0d767"
      },
      "execution_count": 105,
      "outputs": [
        {
          "output_type": "execute_result",
          "data": {
            "text/plain": [
              "array([33, 24, 63, 58, 25, 68, 43, 35, 20, 14])"
            ]
          },
          "metadata": {},
          "execution_count": 105
        }
      ]
    },
    {
      "cell_type": "code",
      "source": [
        "# MATH\n",
        "\n",
        "my_values = np.random.randint(1, 100, 10)\n",
        "\n",
        "my_values.min()\n",
        "my_values.max()\n",
        "my_values.std()"
      ],
      "metadata": {
        "colab": {
          "base_uri": "https://localhost:8080/"
        },
        "id": "dWFXzJ5uIZuH",
        "outputId": "4c8dfd90-2701-4afa-c8e7-78e9b6e69c5e"
      },
      "execution_count": 107,
      "outputs": [
        {
          "output_type": "execute_result",
          "data": {
            "text/plain": [
              "25.349753450477582"
            ]
          },
          "metadata": {},
          "execution_count": 107
        }
      ]
    },
    {
      "cell_type": "code",
      "source": [
        "# FINDING INDEX OF DIFFERENT LOCATIONS\n",
        "\n",
        "my_values.argmax()"
      ],
      "metadata": {
        "colab": {
          "base_uri": "https://localhost:8080/"
        },
        "id": "YUji645uIt0h",
        "outputId": "23631776-0ed5-438e-c4ba-0d45cfb8be2c"
      },
      "execution_count": 108,
      "outputs": [
        {
          "output_type": "execute_result",
          "data": {
            "text/plain": [
              "6"
            ]
          },
          "metadata": {},
          "execution_count": 108
        }
      ]
    },
    {
      "cell_type": "code",
      "source": [
        "my_values.argmin()"
      ],
      "metadata": {
        "colab": {
          "base_uri": "https://localhost:8080/"
        },
        "id": "QkTrtO2yI66E",
        "outputId": "5a7e9e60-4d54-4cf2-a79f-5cd05721092c"
      },
      "execution_count": 109,
      "outputs": [
        {
          "output_type": "execute_result",
          "data": {
            "text/plain": [
              "3"
            ]
          },
          "metadata": {},
          "execution_count": 109
        }
      ]
    }
  ]
}
