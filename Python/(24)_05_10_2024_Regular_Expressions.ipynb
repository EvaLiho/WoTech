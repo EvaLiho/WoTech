{
  "nbformat": 4,
  "nbformat_minor": 0,
  "metadata": {
    "colab": {
      "provenance": [],
      "authorship_tag": "ABX9TyNK8bo5gnM+UBRBXmbvIGb+",
      "include_colab_link": true
    },
    "kernelspec": {
      "name": "python3",
      "display_name": "Python 3"
    },
    "language_info": {
      "name": "python"
    }
  },
  "cells": [
    {
      "cell_type": "markdown",
      "metadata": {
        "id": "view-in-github",
        "colab_type": "text"
      },
      "source": [
        "<a href=\"https://colab.research.google.com/github/EvaLiho/WoTech/blob/main/Python/(24)_05_10_2024_Regular_Expressions.ipynb\" target=\"_parent\"><img src=\"https://colab.research.google.com/assets/colab-badge.svg\" alt=\"Open In Colab\"/></a>"
      ]
    },
    {
      "cell_type": "markdown",
      "source": [
        "### Regular Expressions Operations"
      ],
      "metadata": {
        "id": "YcYEpkcZgVus"
      }
    },
    {
      "cell_type": "markdown",
      "source": [
        "https://docs.python.org/3/library/re.html"
      ],
      "metadata": {
        "id": "-euxeqKZgQQ5"
      }
    },
    {
      "cell_type": "code",
      "source": [
        "import re # regular expressions module"
      ],
      "metadata": {
        "id": "PmRNxdeigQ_U"
      },
      "execution_count": 1,
      "outputs": []
    },
    {
      "cell_type": "code",
      "source": [
        "text = \"\"\"\n",
        "Alice: 555-123-4567\n",
        "Bob: 333-987-6543\n",
        "Charlie: 777-555-88\n",
        "\"\"\""
      ],
      "metadata": {
        "id": "N6JyRqkGlC6s"
      },
      "execution_count": 2,
      "outputs": []
    },
    {
      "cell_type": "code",
      "source": [
        "text"
      ],
      "metadata": {
        "colab": {
          "base_uri": "https://localhost:8080/",
          "height": 55
        },
        "id": "xCB3_SSKlO70",
        "outputId": "b5f9984d-89e2-46fa-e88a-78e0fe087192"
      },
      "execution_count": 3,
      "outputs": [
        {
          "output_type": "execute_result",
          "data": {
            "text/plain": [
              "'\\nAlice: 555-123-4567\\nBob: 333-987-6543\\nCharlie: 777-555-88\\n'"
            ],
            "application/vnd.google.colaboratory.intrinsic+json": {
              "type": "string"
            }
          },
          "metadata": {},
          "execution_count": 3
        }
      ]
    },
    {
      "cell_type": "code",
      "source": [
        "# re.search - searches for the first occurance of a pattern\n",
        "# re.findall - finds all the occurances\n",
        "# re.IGNORECASE - pattern matching is case-insensitive"
      ],
      "metadata": {
        "id": "lS-2sylelQ3B"
      },
      "execution_count": null,
      "outputs": []
    },
    {
      "cell_type": "code",
      "source": [
        "pattern = r'\\b\\d{3}-\\d{3}-\\d{4}\\b'\n",
        "\n",
        "correct_matches = re.findall(pattern, text)\n",
        "\n",
        "print(correct_matches)"
      ],
      "metadata": {
        "colab": {
          "base_uri": "https://localhost:8080/"
        },
        "id": "LEn_V3x8lnWn",
        "outputId": "38fa51c5-d012-4064-a14a-7038bcd355bd"
      },
      "execution_count": 6,
      "outputs": [
        {
          "output_type": "stream",
          "name": "stdout",
          "text": [
            "['555-123-4567', '333-987-6543']\n"
          ]
        }
      ]
    },
    {
      "cell_type": "markdown",
      "source": [
        "### Dates Pattern Matching"
      ],
      "metadata": {
        "id": "J9JOdUqKpp3S"
      }
    },
    {
      "cell_type": "code",
      "source": [
        "dates = \"\"\"\n",
        "My dates are: 05-10-2024 and 2022-10-05\n",
        "\"\"\""
      ],
      "metadata": {
        "id": "zLEOT_4vovfm"
      },
      "execution_count": 5,
      "outputs": []
    },
    {
      "cell_type": "code",
      "source": [
        "pattern2 = r'\\b\\d{2}-\\d{2}-\\d{4}\\b'\n",
        "\n",
        "correct_dates = re.findall(pattern2, dates)\n",
        "\n",
        "print(correct_dates)"
      ],
      "metadata": {
        "colab": {
          "base_uri": "https://localhost:8080/"
        },
        "id": "9uR17CsXqCHe",
        "outputId": "fe90fa1c-0a94-46be-c154-dd1bebf8dd3c"
      },
      "execution_count": 7,
      "outputs": [
        {
          "output_type": "stream",
          "name": "stdout",
          "text": [
            "['05-10-2024']\n"
          ]
        }
      ]
    },
    {
      "cell_type": "markdown",
      "source": [
        "### E-Mail Addresses Matching"
      ],
      "metadata": {
        "id": "4sjzSZU8rjZ8"
      }
    },
    {
      "cell_type": "code",
      "source": [
        "email = \"\"\"\n",
        "E-Mails: liza@example.com, roberta@gmail.com, info@company.net\n",
        "\"\"\""
      ],
      "metadata": {
        "id": "fIXf8QQfrpif"
      },
      "execution_count": 8,
      "outputs": []
    },
    {
      "cell_type": "code",
      "source": [
        "pattern3 = r'\\b[A-Za-z0-9._%+-]+@[A-Za-z0-9.-]+\\.[A-Z|a-z]{2,}\\b'\n",
        "\n",
        "correct_email = re.findall(pattern3, email)\n",
        "\n",
        "print(correct_email)"
      ],
      "metadata": {
        "colab": {
          "base_uri": "https://localhost:8080/"
        },
        "id": "Tc4qpW5-r5lC",
        "outputId": "a7d8bb0d-4f6b-44ed-8a41-c5fc8293f7c9"
      },
      "execution_count": 9,
      "outputs": [
        {
          "output_type": "stream",
          "name": "stdout",
          "text": [
            "['liza@example.com', 'roberta@gmail.com', 'info@company.net']\n"
          ]
        }
      ]
    }
  ]
}