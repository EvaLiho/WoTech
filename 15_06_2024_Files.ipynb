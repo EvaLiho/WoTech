{
  "nbformat": 4,
  "nbformat_minor": 0,
  "metadata": {
    "colab": {
      "provenance": [],
      "authorship_tag": "ABX9TyPVOsQmbHenyCrZD2DOx20K",
      "include_colab_link": true
    },
    "kernelspec": {
      "name": "python3",
      "display_name": "Python 3"
    },
    "language_info": {
      "name": "python"
    }
  },
  "cells": [
    {
      "cell_type": "markdown",
      "metadata": {
        "id": "view-in-github",
        "colab_type": "text"
      },
      "source": [
        "<a href=\"https://colab.research.google.com/github/EvaLiho/WoTech/blob/main/15_06_2024_Files.ipynb\" target=\"_parent\"><img src=\"https://colab.research.google.com/assets/colab-badge.svg\" alt=\"Open In Colab\"/></a>"
      ]
    },
    {
      "cell_type": "markdown",
      "source": [
        "# TEXT FILES"
      ],
      "metadata": {
        "id": "0NhkHq1EUsey"
      }
    },
    {
      "cell_type": "code",
      "source": [
        "filename = '/content/2024_06_14_births.txt' #location of the file\n",
        "\n",
        "with open(filename, 'r') as file: # r - read mode\n",
        "  content = file.read()\n",
        "\n",
        "print('Standard File I/O')\n",
        "print(content)"
      ],
      "metadata": {
        "colab": {
          "base_uri": "https://localhost:8080/"
        },
        "id": "J0CkE_iMUvRJ",
        "outputId": "1df9558d-693b-40df-ba4f-7be339a51ab6"
      },
      "execution_count": 17,
      "outputs": [
        {
          "output_type": "stream",
          "name": "stdout",
          "text": [
            "Standard File I/O\n",
            "Jan 1048\n",
            "Feb 989\n",
            "Mar 1108\n",
            "Apr 1207\n",
            "May 1186\n",
            "Jun 1155\n",
            "Jul 1391\n",
            "Aug 1305\n",
            "Sep 1226\n",
            "Oct 1155\n",
            "Nov 1017\n",
            "Dec 1111\n",
            "\n"
          ]
        }
      ]
    },
    {
      "cell_type": "code",
      "source": [
        "for line in content:\n",
        "  print(line)"
      ],
      "metadata": {
        "colab": {
          "base_uri": "https://localhost:8080/"
        },
        "collapsed": true,
        "id": "zkEpziQvYpal",
        "outputId": "5ed587c3-990b-49c7-be49-3203fe3e7f51"
      },
      "execution_count": 14,
      "outputs": [
        {
          "output_type": "stream",
          "name": "stdout",
          "text": [
            "J\n",
            "a\n",
            "n\n",
            " \n",
            "1\n",
            "0\n",
            "4\n",
            "8\n",
            "\n",
            "\n",
            "F\n",
            "e\n",
            "b\n",
            " \n",
            "9\n",
            "8\n",
            "9\n",
            "\n",
            "\n",
            "M\n",
            "a\n",
            "r\n",
            " \n",
            "1\n",
            "1\n",
            "0\n",
            "8\n",
            "\n",
            "\n",
            "A\n",
            "p\n",
            "r\n",
            " \n",
            "1\n",
            "2\n",
            "0\n",
            "7\n",
            "\n",
            "\n",
            "M\n",
            "a\n",
            "y\n",
            " \n",
            "1\n",
            "1\n",
            "8\n",
            "6\n",
            "\n",
            "\n",
            "J\n",
            "u\n",
            "n\n",
            " \n",
            "1\n",
            "1\n",
            "5\n",
            "5\n",
            "\n",
            "\n",
            "J\n",
            "u\n",
            "l\n",
            " \n",
            "1\n",
            "3\n",
            "9\n",
            "1\n",
            "\n",
            "\n",
            "A\n",
            "u\n",
            "g\n",
            " \n",
            "1\n",
            "3\n",
            "0\n",
            "5\n",
            "\n",
            "\n",
            "S\n",
            "e\n",
            "p\n",
            " \n",
            "1\n",
            "2\n",
            "2\n",
            "6\n",
            "\n",
            "\n",
            "O\n",
            "c\n",
            "t\n",
            " \n",
            "1\n",
            "1\n",
            "5\n",
            "5\n",
            "\n",
            "\n",
            "N\n",
            "o\n",
            "v\n",
            " \n",
            "1\n",
            "0\n",
            "1\n",
            "7\n",
            "\n",
            "\n",
            "D\n",
            "e\n",
            "c\n",
            " \n",
            "1\n",
            "1\n",
            "1\n",
            "1\n",
            "\n",
            "\n"
          ]
        }
      ]
    },
    {
      "cell_type": "markdown",
      "source": [
        "### READLINES"
      ],
      "metadata": {
        "id": "T40gY8MuZf2g"
      }
    },
    {
      "cell_type": "code",
      "source": [
        "\n",
        "filename = '/content/2024_06_14_births.txt' #location of the file\n",
        "\n",
        "with open(filename, 'r') as file: # r - read mode\n",
        "  content = file.readlines()  # /n - new line\n",
        "\n",
        "print('Standard File I/O')\n",
        "print(content)"
      ],
      "metadata": {
        "colab": {
          "base_uri": "https://localhost:8080/"
        },
        "id": "u_YZ4x7JZVdY",
        "outputId": "1a2b152d-b894-41ad-e9d0-25bd9dcd37e4"
      },
      "execution_count": 27,
      "outputs": [
        {
          "output_type": "stream",
          "name": "stdout",
          "text": [
            "Standard File I/O\n",
            "['Jan 1048\\n', 'Feb 989\\n', 'Mar 1108\\n', 'Apr 1207\\n', 'May 1186\\n', 'Jun 1155\\n', 'Jul 1391\\n', 'Aug 1305\\n', 'Sep 1226\\n', 'Oct 1155\\n', 'Nov 1017\\n', 'Dec 1111\\n']\n"
          ]
        }
      ]
    },
    {
      "cell_type": "code",
      "source": [
        "for line in content:\n",
        "  print(line, end='')"
      ],
      "metadata": {
        "colab": {
          "base_uri": "https://localhost:8080/"
        },
        "id": "kEtqaGQ9ZzHl",
        "outputId": "807656f6-c415-4f8a-9795-c41894e9680c"
      },
      "execution_count": 16,
      "outputs": [
        {
          "output_type": "stream",
          "name": "stdout",
          "text": [
            "Jan 1048\n",
            "Feb 989\n",
            "Mar 1108\n",
            "Apr 1207\n",
            "May 1186\n",
            "Jun 1155\n",
            "Jul 1391\n",
            "Aug 1305\n",
            "Sep 1226\n",
            "Oct 1155\n",
            "Nov 1017\n",
            "Dec 1111\n"
          ]
        }
      ]
    },
    {
      "cell_type": "markdown",
      "source": [
        "### Modify the code - make file name as input from the user. Enclose the code in try, except if file is not found"
      ],
      "metadata": {
        "id": "qsRB5-3-ax34"
      }
    },
    {
      "cell_type": "code",
      "source": [
        "filename = input(\"Please input the file name: \")\n",
        "\n",
        "try:\n",
        "  with open(filename, 'r') as file:\n",
        "    content = file.readlines()\n",
        "\n",
        "  print(\"Standard file input/output:\")\n",
        "  print(content)\n",
        "\n",
        "except:\n",
        "  print(\"This filename does not exist!\")"
      ],
      "metadata": {
        "colab": {
          "base_uri": "https://localhost:8080/",
          "height": 216
        },
        "collapsed": true,
        "id": "AwutCs0Garhu",
        "outputId": "b0aaeb0f-2b30-4402-9a5f-dd639a2ea30a"
      },
      "execution_count": 43,
      "outputs": [
        {
          "output_type": "error",
          "ename": "TypeError",
          "evalue": "'str' object is not callable",
          "traceback": [
            "\u001b[0;31m---------------------------------------------------------------------------\u001b[0m",
            "\u001b[0;31mTypeError\u001b[0m                                 Traceback (most recent call last)",
            "\u001b[0;32m<ipython-input-43-37527036191d>\u001b[0m in \u001b[0;36m<cell line: 1>\u001b[0;34m()\u001b[0m\n\u001b[0;32m----> 1\u001b[0;31m \u001b[0mfilename\u001b[0m \u001b[0;34m=\u001b[0m \u001b[0minput\u001b[0m\u001b[0;34m(\u001b[0m\u001b[0;34m\"Please input the file name: \"\u001b[0m\u001b[0;34m)\u001b[0m\u001b[0;34m\u001b[0m\u001b[0;34m\u001b[0m\u001b[0m\n\u001b[0m\u001b[1;32m      2\u001b[0m \u001b[0;34m\u001b[0m\u001b[0m\n\u001b[1;32m      3\u001b[0m \u001b[0;32mtry\u001b[0m\u001b[0;34m:\u001b[0m\u001b[0;34m\u001b[0m\u001b[0;34m\u001b[0m\u001b[0m\n\u001b[1;32m      4\u001b[0m   \u001b[0;32mwith\u001b[0m \u001b[0mopen\u001b[0m\u001b[0;34m(\u001b[0m\u001b[0mfilename\u001b[0m\u001b[0;34m,\u001b[0m \u001b[0;34m'r'\u001b[0m\u001b[0;34m)\u001b[0m \u001b[0;32mas\u001b[0m \u001b[0mfile\u001b[0m\u001b[0;34m:\u001b[0m\u001b[0;34m\u001b[0m\u001b[0;34m\u001b[0m\u001b[0m\n\u001b[1;32m      5\u001b[0m     \u001b[0mcontent\u001b[0m \u001b[0;34m=\u001b[0m \u001b[0mfile\u001b[0m\u001b[0;34m.\u001b[0m\u001b[0mreadlines\u001b[0m\u001b[0;34m(\u001b[0m\u001b[0;34m)\u001b[0m\u001b[0;34m\u001b[0m\u001b[0;34m\u001b[0m\u001b[0m\n",
            "\u001b[0;31mTypeError\u001b[0m: 'str' object is not callable"
          ]
        }
      ]
    },
    {
      "cell_type": "code",
      "source": [
        "#births\n",
        "with open('/content/2024_06_14_births.txt', 'r') as file:\n",
        "  births = file.readlines()"
      ],
      "metadata": {
        "id": "vP4wVJLCdIqt"
      },
      "execution_count": 44,
      "outputs": []
    },
    {
      "cell_type": "code",
      "source": [
        "for birthline in births:\n",
        "  print(birthline)"
      ],
      "metadata": {
        "colab": {
          "base_uri": "https://localhost:8080/"
        },
        "id": "ynMpi4KDdhC3",
        "outputId": "8bfe65c0-47be-47c0-8275-1caa7f6d52fa"
      },
      "execution_count": 34,
      "outputs": [
        {
          "output_type": "stream",
          "name": "stdout",
          "text": [
            "Jan 1048\n",
            "\n",
            "Feb 989\n",
            "\n",
            "Mar 1108\n",
            "\n",
            "Apr 1207\n",
            "\n",
            "May 1186\n",
            "\n",
            "Jun 1155\n",
            "\n",
            "Jul 1391\n",
            "\n",
            "Aug 1305\n",
            "\n",
            "Sep 1226\n",
            "\n",
            "Oct 1155\n",
            "\n",
            "Nov 1017\n",
            "\n",
            "Dec 1111\n",
            "\n"
          ]
        }
      ]
    },
    {
      "cell_type": "code",
      "source": [
        "for birthline in births:\n",
        "  print(birthline[4:]) # value starting index 4"
      ],
      "metadata": {
        "colab": {
          "base_uri": "https://localhost:8080/"
        },
        "id": "_S_5DH7hd4ze",
        "outputId": "f0967452-6705-44ac-9a66-334ccfabe76b"
      },
      "execution_count": 35,
      "outputs": [
        {
          "output_type": "stream",
          "name": "stdout",
          "text": [
            "1048\n",
            "\n",
            "989\n",
            "\n",
            "1108\n",
            "\n",
            "1207\n",
            "\n",
            "1186\n",
            "\n",
            "1155\n",
            "\n",
            "1391\n",
            "\n",
            "1305\n",
            "\n",
            "1226\n",
            "\n",
            "1155\n",
            "\n",
            "1017\n",
            "\n",
            "1111\n",
            "\n"
          ]
        }
      ]
    },
    {
      "cell_type": "markdown",
      "source": [
        "### Sum up all the elements"
      ],
      "metadata": {
        "id": "u5iMewH6f1i9"
      }
    },
    {
      "cell_type": "code",
      "source": [
        "total_sum = 0\n",
        "\n",
        "for birthline in births:\n",
        "  total_sum = total_sum + int(birthline[4:])\n",
        "\n",
        "print(total_sum)"
      ],
      "metadata": {
        "colab": {
          "base_uri": "https://localhost:8080/"
        },
        "id": "dJvYqrJufy6E",
        "outputId": "25075662-b659-4b46-b9d0-5fee12b8a787"
      },
      "execution_count": 42,
      "outputs": [
        {
          "output_type": "stream",
          "name": "stdout",
          "text": [
            "13898\n"
          ]
        }
      ]
    },
    {
      "cell_type": "markdown",
      "source": [
        "### The file births.txt contains the number of births in Estonia for a certain time period by months, while the file deaths.txt contains the number of deaths. population growth was positive and its size.\n",
        "\n",
        "  Write a program that finds and outputs the months when the natural\n",
        "\n",
        "  Update your program so that it also finds and outputs the natural population growth for the entire period covered in the files.\n",
        "\n"
      ],
      "metadata": {
        "id": "y4UCBAVDhUT7"
      }
    },
    {
      "cell_type": "code",
      "source": [
        "#births\n",
        "with open('/content/2024_06_14_births.txt', 'r') as file:\n",
        "  births = file.readlines() #LIST separated by comma\n",
        "\n",
        "#deaths\n",
        "with open('/content/2024_06_14_deaths.txt', 'r') as file:\n",
        "  deaths = file.readlines()"
      ],
      "metadata": {
        "id": "XtMryvk2hvwF"
      },
      "execution_count": 45,
      "outputs": []
    },
    {
      "cell_type": "code",
      "source": [
        "# accessing the number: int(birthline[4:])\n",
        "\n",
        "for i in range(len(births)):\n",
        "  birthline = births[i]\n",
        "  deathline = deaths[i]\n",
        "\n",
        "  birthnumber = int(birthline[4:])\n",
        "  deathnumber = int(deathline[4:])\n",
        "\n",
        "  growth = birthnumber- deathnumber\n",
        "  month = birthline[:3]\n",
        "\n",
        "  if growth > 0:\n",
        "    print(month, growth)"
      ],
      "metadata": {
        "colab": {
          "base_uri": "https://localhost:8080/"
        },
        "id": "jzOq3BQKjFUb",
        "outputId": "616ab7fd-99ca-4b97-ca6c-d6c642c9ea45"
      },
      "execution_count": 54,
      "outputs": [
        {
          "output_type": "stream",
          "name": "stdout",
          "text": [
            "Jun 40\n",
            "Jul 64\n",
            "Aug 103\n",
            "Sep 49\n"
          ]
        }
      ]
    }
  ]
}