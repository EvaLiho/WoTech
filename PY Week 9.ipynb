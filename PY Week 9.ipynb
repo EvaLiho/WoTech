{
  "nbformat": 4,
  "nbformat_minor": 0,
  "metadata": {
    "colab": {
      "provenance": [],
      "authorship_tag": "ABX9TyObjJsuKoak59F73CYMmk5L",
      "include_colab_link": true
    },
    "kernelspec": {
      "name": "python3",
      "display_name": "Python 3"
    },
    "language_info": {
      "name": "python"
    }
  },
  "cells": [
    {
      "cell_type": "markdown",
      "metadata": {
        "id": "view-in-github",
        "colab_type": "text"
      },
      "source": [
        "<a href=\"https://colab.research.google.com/github/EvaLiho/WoTech/blob/main/PY%20Week%209.ipynb\" target=\"_parent\"><img src=\"https://colab.research.google.com/assets/colab-badge.svg\" alt=\"Open In Colab\"/></a>"
      ]
    },
    {
      "cell_type": "markdown",
      "source": [
        "# TUPLE"
      ],
      "metadata": {
        "id": "PSzyXBHBimw6"
      }
    },
    {
      "cell_type": "code",
      "execution_count": 1,
      "metadata": {
        "colab": {
          "base_uri": "https://localhost:8080/"
        },
        "id": "TjHlI5kBhwXa",
        "outputId": "b4d8f5f6-e081-4d93-aa0d-c847d4bd20a4"
      },
      "outputs": [
        {
          "output_type": "stream",
          "name": "stdout",
          "text": [
            "(1, 2, 3)\n"
          ]
        }
      ],
      "source": [
        "# TUPLE == IMMUTABLE - can not be changed\n",
        "\n",
        "my_dict = {} # This is how we define a dictionary.\n",
        "my_list = [] # This is how we define a list. You can append, remove etc.\n",
        "my_tuple = () # This is how we define tuples.\n",
        "\n",
        "my_tuple = (1,2,3)\n",
        "print(my_tuple)"
      ]
    },
    {
      "cell_type": "markdown",
      "source": [
        "Transforming to tuple"
      ],
      "metadata": {
        "id": "e7OUAqKmiKcQ"
      }
    },
    {
      "cell_type": "code",
      "source": [
        "new_list = [1,2,3,4]\n",
        "print(new_list)\n",
        "\n",
        "#transform the list to a tuple\n",
        "new_tuple = tuple(new_list)\n",
        "type(new_tuple)\n"
      ],
      "metadata": {
        "colab": {
          "base_uri": "https://localhost:8080/"
        },
        "id": "Uv0BvFq5iNln",
        "outputId": "faa2b157-f751-421e-e1f9-8322ff7779e8"
      },
      "execution_count": 2,
      "outputs": [
        {
          "output_type": "stream",
          "name": "stdout",
          "text": [
            "[1, 2, 3, 4]\n"
          ]
        },
        {
          "output_type": "execute_result",
          "data": {
            "text/plain": [
              "tuple"
            ]
          },
          "metadata": {},
          "execution_count": 2
        }
      ]
    },
    {
      "cell_type": "code",
      "source": [
        "new_tuple[0] #indexing a touple"
      ],
      "metadata": {
        "colab": {
          "base_uri": "https://localhost:8080/"
        },
        "id": "lnN7JKxkigGk",
        "outputId": "8e98eda3-a204-4cd2-a634-eee02a58c8f8"
      },
      "execution_count": 3,
      "outputs": [
        {
          "output_type": "execute_result",
          "data": {
            "text/plain": [
              "1"
            ]
          },
          "metadata": {},
          "execution_count": 3
        }
      ]
    },
    {
      "cell_type": "code",
      "source": [
        "len(new_tuple) #length\n",
        "min(new_tuple) #min of the tuple\n",
        "max(new_tuple) #max of the tuple\n",
        "sum(new_tuple) #sum of the tuple elements"
      ],
      "metadata": {
        "colab": {
          "base_uri": "https://localhost:8080/"
        },
        "id": "bMPp-6HTiqo8",
        "outputId": "96b451aa-0eb2-4bfc-fca2-9908b1fb392e"
      },
      "execution_count": 4,
      "outputs": [
        {
          "output_type": "execute_result",
          "data": {
            "text/plain": [
              "10"
            ]
          },
          "metadata": {},
          "execution_count": 4
        }
      ]
    },
    {
      "cell_type": "markdown",
      "source": [
        "# DICTIONARY"
      ],
      "metadata": {
        "id": "uW-t6tRVlB-g"
      }
    },
    {
      "cell_type": "code",
      "source": [
        "# CREATING A DICTIONARY\n",
        "\n",
        "dictionary = {} #curly braces method\n",
        "another_dictionary = dict() #calling dictionary method\n",
        "\n",
        "dictionary == another_dictionary #both methods have same outcome"
      ],
      "metadata": {
        "colab": {
          "base_uri": "https://localhost:8080/"
        },
        "id": "eLWcUewvlIjg",
        "outputId": "31cc930c-8565-4ae0-9d38-30ce04ae966d"
      },
      "execution_count": 5,
      "outputs": [
        {
          "output_type": "execute_result",
          "data": {
            "text/plain": [
              "True"
            ]
          },
          "metadata": {},
          "execution_count": 5
        }
      ]
    },
    {
      "cell_type": "code",
      "source": [
        "dictionary = {} #initialising a dictionary\n",
        "\n",
        "dictionary['key1'] = 'value1' #adding elements to the dictionary, can be MULTIPLE\n",
        "dictionary['key2'] = 'value2'\n",
        "dictionary                    #calling the dictionary"
      ],
      "metadata": {
        "colab": {
          "base_uri": "https://localhost:8080/"
        },
        "id": "TE_KFF6wmEh1",
        "outputId": "17e40769-8d58-485e-d3c3-fde356c77744"
      },
      "execution_count": 13,
      "outputs": [
        {
          "output_type": "execute_result",
          "data": {
            "text/plain": [
              "{'key1': 'value1', 'key2': 'value2'}"
            ]
          },
          "metadata": {},
          "execution_count": 13
        }
      ]
    },
    {
      "cell_type": "code",
      "source": [
        "dictionary['key2'] #calling an element from dictionary with the key"
      ],
      "metadata": {
        "colab": {
          "base_uri": "https://localhost:8080/",
          "height": 35
        },
        "id": "GiDXg4yImzmV",
        "outputId": "f87b749d-72a8-465a-b022-6fe13c5e2709"
      },
      "execution_count": 14,
      "outputs": [
        {
          "output_type": "execute_result",
          "data": {
            "text/plain": [
              "'value2'"
            ],
            "application/vnd.google.colaboratory.intrinsic+json": {
              "type": "string"
            }
          },
          "metadata": {},
          "execution_count": 14
        }
      ]
    },
    {
      "cell_type": "code",
      "source": [
        "#STORING A LIST IN THE DICTIONARY\n",
        "dictionary_1 = {}                                       # initializing the dictionary\n",
        "dictionary_1['datorium_list'] = ['python','java','C#']  # adding key and values\n",
        "dictionary_1                                            # calling/printing dictionary"
      ],
      "metadata": {
        "colab": {
          "base_uri": "https://localhost:8080/"
        },
        "id": "toSKPqmbm8iX",
        "outputId": "6ded20c1-f5fc-480a-91d7-e19a1bf52314"
      },
      "execution_count": 21,
      "outputs": [
        {
          "output_type": "execute_result",
          "data": {
            "text/plain": [
              "{'datorium_list': ['python', 'java', 'C#']}"
            ]
          },
          "metadata": {},
          "execution_count": 21
        }
      ]
    },
    {
      "cell_type": "code",
      "source": [
        "dictionary_1['datorium_list'] = [1,2,3] #values are OVERWRITTEN\n",
        "dictionary_1"
      ],
      "metadata": {
        "colab": {
          "base_uri": "https://localhost:8080/"
        },
        "id": "bzddSMf5py0U",
        "outputId": "687bdf48-6f40-4422-c2e1-9f99aa70cae6"
      },
      "execution_count": 22,
      "outputs": [
        {
          "output_type": "execute_result",
          "data": {
            "text/plain": [
              "{'datorium_list': [1, 2, 3]}"
            ]
          },
          "metadata": {},
          "execution_count": 22
        }
      ]
    },
    {
      "cell_type": "code",
      "source": [],
      "metadata": {
        "id": "X_-M4DRcrlDe"
      },
      "execution_count": null,
      "outputs": []
    },
    {
      "cell_type": "markdown",
      "source": [
        "PYTHON DICTIONARY METHODS"
      ],
      "metadata": {
        "id": "CIUvEK_Ur4Jg"
      }
    },
    {
      "cell_type": "code",
      "source": [
        "my_friends = {'Alice': 30, 'John': 40, 'Linda': 28}\n",
        "my_friends['Linda']"
      ],
      "metadata": {
        "colab": {
          "base_uri": "https://localhost:8080/"
        },
        "id": "doeFGRU6qiJw",
        "outputId": "e8663c71-fddc-465d-cd5a-e02d2fb39fb1"
      },
      "execution_count": 55,
      "outputs": [
        {
          "output_type": "execute_result",
          "data": {
            "text/plain": [
              "28"
            ]
          },
          "metadata": {},
          "execution_count": 55
        }
      ]
    },
    {
      "cell_type": "code",
      "source": [
        "# UPDATE() - adding to a list\n",
        "\n",
        "incoming_friends = {'Arta': 28}\n",
        "my_friends.update(incoming_friends)\n",
        "my_friends"
      ],
      "metadata": {
        "colab": {
          "base_uri": "https://localhost:8080/"
        },
        "id": "6-MtFa8frPJr",
        "outputId": "061ddf96-7d6b-4fb7-961f-1600b6d3b327"
      },
      "execution_count": 56,
      "outputs": [
        {
          "output_type": "execute_result",
          "data": {
            "text/plain": [
              "{'Alice': 30, 'John': 40, 'Linda': 28, 'Arta': 28}"
            ]
          },
          "metadata": {},
          "execution_count": 56
        }
      ]
    },
    {
      "cell_type": "code",
      "source": [
        " # POP() - removing an element\n",
        "\n",
        " my_friends.pop('Alice')  #below shows value that was removed"
      ],
      "metadata": {
        "colab": {
          "base_uri": "https://localhost:8080/"
        },
        "id": "uqu2UgMIsH62",
        "outputId": "d21716b2-df7f-4b3d-eda9-9ffabcd9b72e"
      },
      "execution_count": 57,
      "outputs": [
        {
          "output_type": "execute_result",
          "data": {
            "text/plain": [
              "30"
            ]
          },
          "metadata": {},
          "execution_count": 57
        }
      ]
    },
    {
      "cell_type": "code",
      "source": [
        "my_friends"
      ],
      "metadata": {
        "colab": {
          "base_uri": "https://localhost:8080/"
        },
        "id": "kiUJYLdjskcs",
        "outputId": "09caf5b6-c0aa-4d81-bef0-528e231d9ff1"
      },
      "execution_count": 58,
      "outputs": [
        {
          "output_type": "execute_result",
          "data": {
            "text/plain": [
              "{'John': 40, 'Linda': 28, 'Arta': 28}"
            ]
          },
          "metadata": {},
          "execution_count": 58
        }
      ]
    },
    {
      "cell_type": "code",
      "source": [
        "# GET() -\n",
        "\n",
        "#print(my_friends)\n",
        "#my_friends['Alice'] - KeyError!!!\n",
        "\n",
        "my_friends.get('Alice','This Person Does not Exist in The Dictionary')\n",
        "# If thid key does not exist in the dictionary then GET will return this value\n"
      ],
      "metadata": {
        "colab": {
          "base_uri": "https://localhost:8080/",
          "height": 35
        },
        "id": "xHP-MM56s-E4",
        "outputId": "5aac13b1-e799-4e33-94a1-edb0cf17e9d5"
      },
      "execution_count": 60,
      "outputs": [
        {
          "output_type": "execute_result",
          "data": {
            "text/plain": [
              "'This Person Does not Exist in The Dictionary'"
            ],
            "application/vnd.google.colaboratory.intrinsic+json": {
              "type": "string"
            }
          },
          "metadata": {},
          "execution_count": 60
        }
      ]
    },
    {
      "cell_type": "code",
      "source": [
        "# ITEMS(), KEYS(), VALUES()\n",
        "\n",
        "# items() - returns all the objects from the dictionary\n",
        "my_friends.items()\n",
        "\n",
        "# keys() - returns all keys of the dictionary\n",
        "my_friends.keys()\n",
        "\n",
        "# vakues() - returns all values of the dictionary\n",
        "my_friends.values()"
      ],
      "metadata": {
        "colab": {
          "base_uri": "https://localhost:8080/"
        },
        "id": "LLCEn9M3tvrP",
        "outputId": "e3cf8ac6-89b9-46b4-9365-a09bfc6b14eb"
      },
      "execution_count": 62,
      "outputs": [
        {
          "output_type": "execute_result",
          "data": {
            "text/plain": [
              "dict_values([40, 28, 28])"
            ]
          },
          "metadata": {},
          "execution_count": 62
        }
      ]
    },
    {
      "cell_type": "markdown",
      "source": [
        "# EXERCISE - CONTACT BOOK"
      ],
      "metadata": {
        "id": "RjnOm4dSvDct"
      }
    },
    {
      "cell_type": "code",
      "source": [
        "contact_book = {}               #initializing the dictionary\n",
        "\n",
        "name = input('Enter the name: ')\n",
        "number = input('Enter number: ')\n",
        "\n",
        "contact_book[name] = number     #ADDING elements to the dict\n",
        "print(f'Contact {name} added successfully!')"
      ],
      "metadata": {
        "colab": {
          "base_uri": "https://localhost:8080/"
        },
        "id": "C4KCwWFBx_T0",
        "outputId": "ab209b6a-e20e-4e9f-ffd4-c9c9e744aad2"
      },
      "execution_count": 66,
      "outputs": [
        {
          "output_type": "stream",
          "name": "stdout",
          "text": [
            "Enter the name: Anu\n",
            "Enter number: 456\n",
            "Contact Anu added successfully!\n"
          ]
        }
      ]
    },
    {
      "cell_type": "code",
      "source": [
        "contact_book"
      ],
      "metadata": {
        "colab": {
          "base_uri": "https://localhost:8080/"
        },
        "id": "uSTmlXpxy4hC",
        "outputId": "0506ec31-4ca0-43e3-86a8-8c0d5c410e5f"
      },
      "execution_count": 67,
      "outputs": [
        {
          "output_type": "execute_result",
          "data": {
            "text/plain": [
              "{'Anu': '456'}"
            ]
          },
          "metadata": {},
          "execution_count": 67
        }
      ]
    },
    {
      "cell_type": "markdown",
      "source": [
        "LOOP"
      ],
      "metadata": {
        "id": "KBw8WxBE0OT4"
      }
    },
    {
      "cell_type": "code",
      "source": [
        "while True:\n",
        "  name = input('Enter the name: ')\n",
        "  if name == \"\":\n",
        "    print('All friends added successfully!')\n",
        "    break\n",
        "  number = input('Enter number: ')\n",
        "  contact_book[name] = number\n",
        "  print(f'Contact {name} added successfully!')\n",
        "print(contact_book)"
      ],
      "metadata": {
        "colab": {
          "base_uri": "https://localhost:8080/"
        },
        "id": "eObrFBSp0MRQ",
        "outputId": "0863742c-99f2-4155-cb67-dfd46182b253"
      },
      "execution_count": 73,
      "outputs": [
        {
          "output_type": "stream",
          "name": "stdout",
          "text": [
            "Enter the name: Eva\n",
            "Enter number: 123\n",
            "Contact Eva added successfully!\n",
            "Enter the name: Anu\n",
            "Enter number: 456\n",
            "Contact Anu added successfully!\n",
            "Enter the name: \n",
            "All friends added successfully!\n",
            "{'Anu': '456', 'Eva': '123'}\n"
          ]
        }
      ]
    },
    {
      "cell_type": "markdown",
      "source": [
        "# EXERCISE - STORE INVENTORY MANAGEMENT"
      ],
      "metadata": {
        "id": "23NVDDAx1z1D"
      }
    },
    {
      "cell_type": "code",
      "source": [
        "store_inventory = {}\n",
        "addition = {}\n",
        "\n",
        "while True:\n",
        "  product = input('Enter product: ')\n",
        "  if product == \"\":\n",
        "    print('All products added successfully!')\n",
        "    break\n",
        "  amount = input('Enter amount: ')\n",
        "  addition[product] = amount                    #ADDING method\n",
        "  store_inventory.update(addition)\n",
        "  print(f'Product {product} amount added successfully!')\n",
        "print(store_inventory)\n"
      ],
      "metadata": {
        "colab": {
          "base_uri": "https://localhost:8080/"
        },
        "id": "2A56n0cT15CR",
        "outputId": "b5432e0c-bbf2-462f-fb95-c6f596745b8a"
      },
      "execution_count": 82,
      "outputs": [
        {
          "output_type": "stream",
          "name": "stdout",
          "text": [
            "Enter product: a\n",
            "Enter amount: 1\n",
            "Product a amount added successfully!\n",
            "Enter product: d\n",
            "Enter amount: 1\n",
            "Product d amount added successfully!\n",
            "Enter product: \n",
            "All products added successfully!\n",
            "{'a': '1', 'd': '1'}\n"
          ]
        }
      ]
    },
    {
      "cell_type": "markdown",
      "source": [
        "FUNCTIONS"
      ],
      "metadata": {
        "id": "udi3-jdT5H5D"
      }
    },
    {
      "cell_type": "code",
      "source": [
        "store_inventory = {}"
      ],
      "metadata": {
        "id": "qvQrlCc853-a"
      },
      "execution_count": null,
      "outputs": []
    },
    {
      "cell_type": "code",
      "source": [
        "def add_item(store_inventory):\n",
        "  product = input('Enter product: ')\n",
        "  amount = input('Enter amount: ')\n",
        "  addition[product] = amount\n",
        "  print(f'Product {product} amount added successfully!')"
      ],
      "metadata": {
        "id": "FNk7o8065dHL"
      },
      "execution_count": 84,
      "outputs": []
    },
    {
      "cell_type": "code",
      "source": [
        "while True:\n",
        "  addition() = add_item(store_inventory)\n",
        "  store_inventory.update(addition)\n",
        "print(store_inventory)"
      ],
      "metadata": {
        "colab": {
          "base_uri": "https://localhost:8080/",
          "height": 108
        },
        "id": "ExJ6c9Ex5Hac",
        "outputId": "551c5380-625b-41b8-a8eb-fb17ece29c92"
      },
      "execution_count": 95,
      "outputs": [
        {
          "output_type": "error",
          "ename": "SyntaxError",
          "evalue": "cannot assign to function call here. Maybe you meant '==' instead of '='? (<ipython-input-95-7fc35e8f6c28>, line 2)",
          "traceback": [
            "\u001b[0;36m  File \u001b[0;32m\"<ipython-input-95-7fc35e8f6c28>\"\u001b[0;36m, line \u001b[0;32m2\u001b[0m\n\u001b[0;31m    addition() = add_item(store_inventory)\u001b[0m\n\u001b[0m    ^\u001b[0m\n\u001b[0;31mSyntaxError\u001b[0m\u001b[0;31m:\u001b[0m cannot assign to function call here. Maybe you meant '==' instead of '='?\n"
          ]
        }
      ]
    }
  ]
}