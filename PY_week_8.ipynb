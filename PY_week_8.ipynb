{
  "nbformat": 4,
  "nbformat_minor": 0,
  "metadata": {
    "colab": {
      "provenance": [],
      "authorship_tag": "ABX9TyP1Fa6LcNGRCHAURT4dkn0A",
      "include_colab_link": true
    },
    "kernelspec": {
      "name": "python3",
      "display_name": "Python 3"
    },
    "language_info": {
      "name": "python"
    }
  },
  "cells": [
    {
      "cell_type": "markdown",
      "metadata": {
        "id": "view-in-github",
        "colab_type": "text"
      },
      "source": [
        "<a href=\"https://colab.research.google.com/github/EvaLiho/WoTech/blob/main/PY_week_8.ipynb\" target=\"_parent\"><img src=\"https://colab.research.google.com/assets/colab-badge.svg\" alt=\"Open In Colab\"/></a>"
      ]
    },
    {
      "cell_type": "code",
      "execution_count": 3,
      "metadata": {
        "colab": {
          "base_uri": "https://localhost:8080/"
        },
        "id": "4WNDKIWNmwmW",
        "outputId": "38db1a99-a07a-4878-91f5-8f60e7b25462"
      },
      "outputs": [
        {
          "output_type": "stream",
          "name": "stdout",
          "text": [
            "Student name: Alice\n",
            "Student name: Bob\n",
            "Student name: Charlie\n",
            "Student name: David\n",
            "Student name: Eva\n"
          ]
        }
      ],
      "source": [
        "student_names = [\"Alice\", \"Bob\", \"Charlie\", \"David\", \"Eva\"]\n",
        "\n",
        "for name in student_names:\n",
        "  print(f'Student name: {name}')"
      ]
    },
    {
      "cell_type": "markdown",
      "source": [
        "#WHILE LOOP"
      ],
      "metadata": {
        "id": "RSBj_3iqrQQW"
      }
    },
    {
      "cell_type": "code",
      "source": [
        "counter = 0 #initialize the var\n",
        "\n",
        "while counter <10 : #we break when we reach the logical expression to be false\n",
        "  counter = counter + 1\n",
        "  print(counter)"
      ],
      "metadata": {
        "colab": {
          "base_uri": "https://localhost:8080/"
        },
        "id": "MDwRUmdNtRZH",
        "outputId": "682317b2-c5bc-45d7-d52f-6285b20e0c04"
      },
      "execution_count": 6,
      "outputs": [
        {
          "output_type": "stream",
          "name": "stdout",
          "text": [
            "1\n",
            "2\n",
            "3\n",
            "4\n",
            "5\n",
            "6\n",
            "7\n",
            "8\n",
            "9\n",
            "10\n"
          ]
        }
      ]
    },
    {
      "cell_type": "code",
      "source": [
        "counter = 0 #initialize the var\n",
        "\n",
        "while True: #we break when we reach the logical expression to be false\n",
        "  counter = counter + 1\n",
        "  print(counter)\n",
        "  if counter <10:\n",
        "    continue #goes up to the loop\n",
        "  else:\n",
        "    break #we stop the loop"
      ],
      "metadata": {
        "colab": {
          "base_uri": "https://localhost:8080/"
        },
        "id": "ytlhkTR6rHz4",
        "outputId": "04902717-7e58-44ec-f2a3-28ed009bddab"
      },
      "execution_count": 5,
      "outputs": [
        {
          "output_type": "stream",
          "name": "stdout",
          "text": [
            "1\n",
            "2\n",
            "3\n",
            "4\n",
            "5\n",
            "6\n",
            "7\n",
            "8\n",
            "9\n",
            "10\n"
          ]
        }
      ]
    },
    {
      "cell_type": "markdown",
      "source": [
        "# WHILE LOOP EXERCISE"
      ],
      "metadata": {
        "id": "B7OClXwUQBKZ"
      }
    },
    {
      "cell_type": "code",
      "source": [
        "while True: #city != \"stop\"\n",
        "  city = input('What cities have you been to in LV or EE? T stop write \"stop\".')\n",
        "\n",
        "  if city == 'stop':\n",
        "    print('You have written \"stop\".') #run the code until user has written STOP\n",
        "    break\n",
        "  else:\n",
        "    print(f'I se you have to been to the {city}.')"
      ],
      "metadata": {
        "id": "p1rR4Mo_tewt"
      },
      "execution_count": null,
      "outputs": []
    },
    {
      "cell_type": "code",
      "source": [
        "# Initiate list\n",
        "cities_list = []\n",
        "\n",
        "while True: #city != \"stop\"\n",
        "  city = input('What cities have you been to in LV or EE? T stop write \"stop\".')\n",
        "\n",
        "  if city == 'stop':\n",
        "    print('You have written \"stop\".') #run the code until user has written STOP\n",
        "    break\n",
        "  else:\n",
        "    print(f'I se you have to been to the {city}.')\n",
        "    cities_list.append(city)\n",
        "\n",
        "print(f'You have been to {len(cities_list)} cities')"
      ],
      "metadata": {
        "id": "axFLRwdjSFtH"
      },
      "execution_count": null,
      "outputs": []
    },
    {
      "cell_type": "code",
      "source": [
        "cities_list = []\n",
        "counter = 0 #initiate the counter\n",
        "\n",
        "while True: #city != \"stop\"\n",
        "  city = input('What cities have you been to in LV or EE? T stop write \"stop\".')\n",
        "\n",
        "  if city == 'stop':\n",
        "    print('You have written \"stop\".') #run the code until user has written STOP\n",
        "    break\n",
        "  else:\n",
        "    counter = counter + 1\n",
        "    print(f'{counter}. I see you have to been to the {city}.') # counter can be raplaced with {len(cities_list)}\n",
        "    cities_list.append(city)\n",
        "\n",
        "print(f'You have been to {len(cities_list)} cities')"
      ],
      "metadata": {
        "id": "MDyjC1eySVZM"
      },
      "execution_count": null,
      "outputs": []
    },
    {
      "cell_type": "markdown",
      "source": [
        "# IMPORTING A LIBRARY"
      ],
      "metadata": {
        "id": "Q57jrbbHW6gp"
      }
    },
    {
      "cell_type": "code",
      "source": [
        "import random"
      ],
      "metadata": {
        "id": "4hQObudEURtU"
      },
      "execution_count": 1,
      "outputs": []
    },
    {
      "cell_type": "code",
      "source": [
        "random.randint(1,101)"
      ],
      "metadata": {
        "colab": {
          "base_uri": "https://localhost:8080/"
        },
        "id": "lqHAov9jXaYc",
        "outputId": "63861a06-1fae-44b7-9392-fb92593c55fa"
      },
      "execution_count": 3,
      "outputs": [
        {
          "output_type": "execute_result",
          "data": {
            "text/plain": [
              "29"
            ]
          },
          "metadata": {},
          "execution_count": 3
        }
      ]
    },
    {
      "cell_type": "code",
      "source": [
        "random_number = random.randint(1,101)\n",
        "print(random_number)"
      ],
      "metadata": {
        "colab": {
          "base_uri": "https://localhost:8080/"
        },
        "id": "OyqsakZpYqBA",
        "outputId": "195ca14b-7f11-40f4-db15-a16a30c7789e"
      },
      "execution_count": 4,
      "outputs": [
        {
          "output_type": "stream",
          "name": "stdout",
          "text": [
            "5\n"
          ]
        }
      ]
    },
    {
      "cell_type": "code",
      "source": [
        "while True:\n",
        "  guess = input('Guess the number between 1 and 100, to quit write \"stop\"!')\n",
        "\n",
        "  if guess == 'stop':\n",
        "    print('The game has been stopped.')\n",
        "    break\n",
        "  guess = int(guess)\n",
        "\n",
        "  if guess == random_number:\n",
        "    print('Congratulations. You have guessed the correct number.')\n",
        "    break\n",
        "  else:\n",
        "    print('Wrong, try again. ')"
      ],
      "metadata": {
        "colab": {
          "base_uri": "https://localhost:8080/"
        },
        "id": "mG5cCfpkZY2W",
        "outputId": "ea69dc2b-0d23-4d11-aac5-b2c8940cad8a"
      },
      "execution_count": 5,
      "outputs": [
        {
          "output_type": "stream",
          "name": "stdout",
          "text": [
            "Guess the number between 1 and 100, sto quite write \"stop\"!5\n",
            "Congratulations. You have guessed the correct number.\n"
          ]
        }
      ]
    },
    {
      "cell_type": "code",
      "source": [
        "while True:\n",
        "  guess = input('Guess the number between 1 and 100, sto quite write \"stop\"!')\n",
        "\n",
        "  if guess == 'stop':\n",
        "    print('The game has been stopped.')\n",
        "    break\n",
        "  guess = int(guess)\n",
        "\n",
        "  if guess == random_number:\n",
        "    print('Congratulations. You have guessed the correct number.')\n",
        "    break\n",
        "  else:\n",
        "    # WE ARE MAKING THE GAME EASIER\n",
        "    if guess > random_number:\n",
        "      print('Try lower!')\n",
        "    else:\n",
        "      print('Try higher!')"
      ],
      "metadata": {
        "id": "y0AVPH4Kac-e"
      },
      "execution_count": null,
      "outputs": []
    },
    {
      "cell_type": "code",
      "source": [
        "guesses = [] #initialize the list for integers\n",
        "\n",
        "while True:\n",
        "  guess = input('Guess the number between 1 and 100, sto quite write \"stop\"!')\n",
        "\n",
        "  if guess == 'stop':\n",
        "    print('The game has been stopped.')\n",
        "    break\n",
        "  guess = int(guess)\n",
        "  guesses.append(guess) #append it to the list\n",
        "\n",
        "  if guess == random_number:\n",
        "    print('Congratulations. You have guessed the correct number.',len(guesses) )\n",
        "    break\n",
        "  else:\n",
        "    # WE ARE MAKING THE GAME EASIER\n",
        "    if guess > random_number:\n",
        "      print('Try lower!')\n",
        "    else:\n",
        "      print('Try higher!')\n",
        "\n",
        "print(f'You managed to guess the number in {len(guesses)} guesses')"
      ],
      "metadata": {
        "id": "C2rVBP2va2it"
      },
      "execution_count": null,
      "outputs": []
    },
    {
      "cell_type": "code",
      "source": [
        "guesses = [] #initialize the list for integers\n",
        "\n",
        "while True:\n",
        "  guess = input('Guess the number between 1 and 100, sto quite write \"stop\"!')\n",
        "\n",
        "  if guess == 'stop':\n",
        "    print('The game has been stopped.')\n",
        "    break\n",
        "  guess = int(guess)\n",
        "  guesses.append(guess) #append it to the list\n",
        "\n",
        "  if guess == random_number:\n",
        "    print('Congratulations. You have guessed the correct number.',len(guesses) )\n",
        "    break\n",
        "  else:\n",
        "    # WE ARE MAKING THE GAME EASIER\n",
        "    if guess > random_number:\n",
        "      print('Try lower!')\n",
        "    else:\n",
        "      print('Try higher!')\n",
        "\n",
        "print(f'You managed to guess the number in {len(guesses)} guesses')"
      ],
      "metadata": {
        "id": "zQzWAJIjc8c1"
      },
      "execution_count": null,
      "outputs": []
    },
    {
      "cell_type": "code",
      "source": [
        "random_number = random.randint(1, 100)\n",
        "print(random_number)\n",
        "\n",
        "guesses = [] #initialize the list for integers\n",
        "\n",
        "while True:\n",
        "  guess = input('Guess the number between 1 and 100, sto quite write \"stop\"!')\n",
        "\n",
        "  if guess == 'stop':\n",
        "    print('The game has been stopped.')\n",
        "    break\n",
        "  try:\n",
        "    guess = int(guess)\n",
        "  except:\n",
        "    print('You need to input an integer!')\n",
        "    continue\n",
        "  guesses.append(guess) #append it to the list\n",
        "\n",
        "  if guess == random_number:\n",
        "    print('Congratulations. You have guessed the correct number.',len(guesses) )\n",
        "    break\n",
        "  else:\n",
        "    # WE ARE MAKING THE GAME EASIER\n",
        "    if guess > random_number:\n",
        "      print('Try lower!')\n",
        "    else:\n",
        "      print('Try higher!')\n",
        "\n",
        "print(f'You managed to guess the number in {len(guesses)} guesses')"
      ],
      "metadata": {
        "id": "5G0OEooca3fz"
      },
      "execution_count": null,
      "outputs": []
    }
  ]
}