{
  "nbformat": 4,
  "nbformat_minor": 0,
  "metadata": {
    "colab": {
      "provenance": [],
      "authorship_tag": "ABX9TyPJdflGqD+BhtrnoYa6Xblw",
      "include_colab_link": true
    },
    "kernelspec": {
      "name": "python3",
      "display_name": "Python 3"
    },
    "language_info": {
      "name": "python"
    }
  },
  "cells": [
    {
      "cell_type": "markdown",
      "metadata": {
        "id": "view-in-github",
        "colab_type": "text"
      },
      "source": [
        "<a href=\"https://colab.research.google.com/github/EvaLiho/WoTech/blob/main/PY_Week_10.ipynb\" target=\"_parent\"><img src=\"https://colab.research.google.com/assets/colab-badge.svg\" alt=\"Open In Colab\"/></a>"
      ]
    },
    {
      "cell_type": "markdown",
      "source": [
        "# FUNCTIONS"
      ],
      "metadata": {
        "id": "so7oY0flkzbu"
      }
    },
    {
      "cell_type": "code",
      "execution_count": 4,
      "metadata": {
        "id": "cHYdfhXTifDz"
      },
      "outputs": [],
      "source": [
        "def cleaner():\n",
        "  print('I have cleaned the item')"
      ]
    },
    {
      "cell_type": "code",
      "source": [
        "cleaner()"
      ],
      "metadata": {
        "colab": {
          "base_uri": "https://localhost:8080/"
        },
        "id": "JwtxFY7flY98",
        "outputId": "0322aa5d-a9b8-4e19-e8d0-242f70102352"
      },
      "execution_count": 5,
      "outputs": [
        {
          "output_type": "stream",
          "name": "stdout",
          "text": [
            "I have cleaned the item\n"
          ]
        }
      ]
    },
    {
      "cell_type": "code",
      "source": [
        "def cleaner(item):\n",
        "  print(f'I have cleaned the {item}')"
      ],
      "metadata": {
        "id": "2RojyiIrlnhm"
      },
      "execution_count": 14,
      "outputs": []
    },
    {
      "cell_type": "code",
      "source": [
        "cleaner('phone')"
      ],
      "metadata": {
        "colab": {
          "base_uri": "https://localhost:8080/"
        },
        "id": "UdHksFovl4Vb",
        "outputId": "d34973b8-87c1-4378-f68d-338d7bcacaa9"
      },
      "execution_count": 18,
      "outputs": [
        {
          "output_type": "stream",
          "name": "stdout",
          "text": [
            "I have cleaned the phone\n"
          ]
        }
      ]
    },
    {
      "cell_type": "code",
      "source": [
        "def cleaner(item, fluid, times):\n",
        "  print(f'I have cleaned the {item} with {fluid} {times} times')\n",
        "\n",
        "cleaner('phone', 'water','3')"
      ],
      "metadata": {
        "colab": {
          "base_uri": "https://localhost:8080/"
        },
        "id": "6wc5XQN5nDkX",
        "outputId": "eb5f3477-b3ca-4fc2-c2b9-4cee96c7637a"
      },
      "execution_count": 19,
      "outputs": [
        {
          "output_type": "stream",
          "name": "stdout",
          "text": [
            "I have cleaned the phone with water 3 times\n"
          ]
        }
      ]
    },
    {
      "cell_type": "code",
      "source": [
        "def add_two_numbers(number_1, number_2):\n",
        "  return number_1 + number_2\n",
        "\n",
        "add_two_numbers(4,5)"
      ],
      "metadata": {
        "colab": {
          "base_uri": "https://localhost:8080/"
        },
        "id": "JspIU-Rlq2KC",
        "outputId": "0186378c-7b8f-45ab-8bc9-be33f981833a"
      },
      "execution_count": 22,
      "outputs": [
        {
          "output_type": "execute_result",
          "data": {
            "text/plain": [
              "9"
            ]
          },
          "metadata": {},
          "execution_count": 22
        }
      ]
    },
    {
      "cell_type": "code",
      "source": [
        "50 - add_two_numbers(4,5)"
      ],
      "metadata": {
        "colab": {
          "base_uri": "https://localhost:8080/"
        },
        "id": "KAiVmYwyrrKE",
        "outputId": "bcb0c4d4-cda2-4f16-bb06-0b9157a92e4c"
      },
      "execution_count": 23,
      "outputs": [
        {
          "output_type": "execute_result",
          "data": {
            "text/plain": [
              "41"
            ]
          },
          "metadata": {},
          "execution_count": 23
        }
      ]
    },
    {
      "cell_type": "markdown",
      "source": [
        "# DEFINING A CLASS"
      ],
      "metadata": {
        "id": "Mxreihooz-7k"
      }
    },
    {
      "cell_type": "code",
      "source": [
        "class Cat:    #define a class (a function inside a class is called method e.g. 'init')\n",
        "  # init - when we initialize sthng - it runs AUTOMATICALLY  only once\n",
        "  # when a obj from this class is created\n",
        "  # this method also called a `constructor` (because it constructs the item)\n",
        "  def __init__(self):   # 'self' is a required parameter and refers to the instance\n",
        "    pass              #do nothing"
      ],
      "metadata": {
        "id": "V9rkr746y8XA"
      },
      "execution_count": 24,
      "outputs": []
    },
    {
      "cell_type": "code",
      "source": [
        "class Cat:\n",
        "  def __init__(self, name, age):  #after self can be parameters\n",
        "    self.name = name\n",
        "    self.age = age\n",
        "\n",
        "cat_1 = Cat('Coder', 3)   # create an instance of the class, called object\n",
        "cat_2 = Cat('Minka', 12)\n",
        "cat_3 = Cat('Miisu', 5)\n",
        "\n",
        "print(cat_1.age)        # read the instance/object variable"
      ],
      "metadata": {
        "colab": {
          "base_uri": "https://localhost:8080/"
        },
        "id": "axkziON51gIQ",
        "outputId": "93a709eb-1195-4623-fc45-983b09fd7c7c"
      },
      "execution_count": 37,
      "outputs": [
        {
          "output_type": "stream",
          "name": "stdout",
          "text": [
            "3\n"
          ]
        }
      ]
    },
    {
      "cell_type": "code",
      "source": [
        "print(cat_1)    # without parameter prints location in memory"
      ],
      "metadata": {
        "colab": {
          "base_uri": "https://localhost:8080/"
        },
        "id": "U1axByg-5CQM",
        "outputId": "22878c0c-8739-4806-f04a-53cd098b1f19"
      },
      "execution_count": 30,
      "outputs": [
        {
          "output_type": "stream",
          "name": "stdout",
          "text": [
            "<__main__.Cat object at 0x7ff722a22f80>\n"
          ]
        }
      ]
    },
    {
      "cell_type": "code",
      "source": [
        "class Cat:\n",
        "  def __init__(self, name, age):  #after self can be parameters\n",
        "    self.name = name\n",
        "    self.age = age\n",
        "\n",
        "  def voice(self, sound):  # 'self' is MANDATORY in class method\n",
        "    print(f'{sound}!')\n",
        "\n",
        "cat_1 = Cat('Coder', 3)   # create an instance of the class, called object\n",
        "cat_2 = Cat('Minka', 12)\n",
        "cat_3 = Cat('Miisu', 5)\n",
        "\n",
        "cat_3.voice('Meow') #sound MUST be provided as an argument\n",
        "cat_2.voice('Meooooow')\n"
      ],
      "metadata": {
        "colab": {
          "base_uri": "https://localhost:8080/"
        },
        "collapsed": true,
        "id": "S4WfD_NE5Jvx",
        "outputId": "ea03d79b-2582-4ddc-ba3c-72c1562bb506"
      },
      "execution_count": 40,
      "outputs": [
        {
          "output_type": "stream",
          "name": "stdout",
          "text": [
            "Meow!\n",
            "Meooooow!\n"
          ]
        }
      ]
    },
    {
      "cell_type": "code",
      "source": [
        "class Cat:\n",
        "  def __init__(self, name, age):\n",
        "    self.name = name\n",
        "    self.age = age\n",
        "    self.sound = 'Meow' # assigning a sound, it is not required because not defined as parameter\n",
        "\n",
        "  def voice(self):\n",
        "    print(f'{self.sound}!')\n",
        "\n",
        "  def eat(self, food):\n",
        "    print(f'{self.name} is eating {food}')\n",
        "\n",
        "  def introduce(self):\n",
        "    print(f'Hi, my name is {self.name}, I am {self.age} years old.')\n",
        "\n",
        "cat_1 = Cat('Coder', 3)\n",
        "cat_2 = Cat('Minka', 12)\n",
        "cat_3 = Cat('Miisu', 5)\n",
        "\n",
        "cat_3.voice()\n",
        "cat_2.voice()\n",
        "\n",
        "cat_2.eat('fish')\n",
        "\n",
        "cat_1.introduce()"
      ],
      "metadata": {
        "colab": {
          "base_uri": "https://localhost:8080/"
        },
        "id": "tsEi1q2Y7I7o",
        "outputId": "7f1371bb-3ce0-4d98-cfdd-a670bac38542"
      },
      "execution_count": 59,
      "outputs": [
        {
          "output_type": "stream",
          "name": "stdout",
          "text": [
            "Meow!\n",
            "Meow!\n",
            "Minka is eating fish\n",
            "Hi, my name is Coder, I am 3 years old.\n"
          ]
        }
      ]
    },
    {
      "cell_type": "code",
      "source": [
        "cats = [cat_1, cat_2, cat_3]\n",
        "\n",
        "for cat in cats:\n",
        "  print(f\"Cat's name: {cat.name}, Cat's age: {cat.age}. \")"
      ],
      "metadata": {
        "colab": {
          "base_uri": "https://localhost:8080/"
        },
        "id": "q-vC2SH8AYBn",
        "outputId": "b99ea9a7-f30b-4ed7-f5a1-c1a11f3e2c84"
      },
      "execution_count": 57,
      "outputs": [
        {
          "output_type": "stream",
          "name": "stdout",
          "text": [
            "Cat's name: Coder, Cat's age: 3. \n",
            "Cat's name: Minka, Cat's age: 12. \n",
            "Cat's name: Miisu, Cat's age: 5. \n"
          ]
        }
      ]
    },
    {
      "cell_type": "markdown",
      "source": [
        "#TEAMWORK"
      ],
      "metadata": {
        "id": "pVLJ8bkz_j5W"
      }
    },
    {
      "cell_type": "markdown",
      "source": [
        "1. To make a data structure which will hold all instances/objects together\n",
        "2. Print out object data using loops\n",
        "3. Use methods for all objects using loops\n",
        "4. Allow programmer to override the default sound of a cat"
      ],
      "metadata": {
        "id": "RAYCDhEX_lmp"
      }
    },
    {
      "cell_type": "code",
      "source": [
        "class Book:\n",
        "  def __init__(self, titel, pages):\n",
        "    self.titel = titel\n",
        "    self.pages = pages\n",
        "\n",
        "book_1 = Book('The Sun', 345)\n",
        "book_2 = Book('My Family', 212)\n",
        "book_3 = Book('Moon', 45)\n",
        "\n",
        "library = [book_1, book_2, book_3]\n",
        "\n",
        "for book in library:\n",
        "  print(f\"I have read: {book.titel} that has {book.pages}.\")"
      ],
      "metadata": {
        "id": "DycuUl6vAMIq"
      },
      "execution_count": null,
      "outputs": []
    },
    {
      "cell_type": "code",
      "source": [
        "def archive(self):\n",
        "  print(f'{self.titel} is stored in')\n",
        "\n",
        "book_1.archive()"
      ],
      "metadata": {
        "colab": {
          "base_uri": "https://localhost:8080/",
          "height": 180
        },
        "id": "ZzLruEi3GOkL",
        "outputId": "0f523ac4-a44e-4950-8959-cd0a4e78845b"
      },
      "execution_count": 89,
      "outputs": [
        {
          "output_type": "error",
          "ename": "AttributeError",
          "evalue": "'Book' object has no attribute 'archive'",
          "traceback": [
            "\u001b[0;31m---------------------------------------------------------------------------\u001b[0m",
            "\u001b[0;31mAttributeError\u001b[0m                            Traceback (most recent call last)",
            "\u001b[0;32m<ipython-input-89-17ebf7f0b57a>\u001b[0m in \u001b[0;36m<cell line: 4>\u001b[0;34m()\u001b[0m\n\u001b[1;32m      2\u001b[0m   \u001b[0mprint\u001b[0m\u001b[0;34m(\u001b[0m\u001b[0;34mf'{self.titel} is stored in'\u001b[0m\u001b[0;34m)\u001b[0m\u001b[0;34m\u001b[0m\u001b[0;34m\u001b[0m\u001b[0m\n\u001b[1;32m      3\u001b[0m \u001b[0;34m\u001b[0m\u001b[0m\n\u001b[0;32m----> 4\u001b[0;31m \u001b[0mbook_1\u001b[0m\u001b[0;34m.\u001b[0m\u001b[0marchive\u001b[0m\u001b[0;34m(\u001b[0m\u001b[0;34m)\u001b[0m\u001b[0;34m\u001b[0m\u001b[0;34m\u001b[0m\u001b[0m\n\u001b[0m",
            "\u001b[0;31mAttributeError\u001b[0m: 'Book' object has no attribute 'archive'"
          ]
        }
      ]
    },
    {
      "cell_type": "code",
      "source": [
        "class Cat:\n",
        "  def __init__(self, name, age):\n",
        "    self.name = name\n",
        "    self.age = age\n",
        "    self.sound = 'Meow' # assigning a sound, it is not required because not defined as parameter\n",
        "\n",
        "  def voice(self, sound):\n",
        "    print(f'{self.sound}!')\n",
        "\n",
        "cat_1 = Cat('Coder', 3)\n",
        "cat_2 = Cat('Minka', 12)\n",
        "cat_3 = Cat('Miisu', 5)\n",
        "\n",
        "cat_3.sound = 'Purr'\n",
        "\n",
        "print(cat_1.sound)\n",
        "print(cat_3.sound)\n"
      ],
      "metadata": {
        "colab": {
          "base_uri": "https://localhost:8080/"
        },
        "id": "A8PPPUrLC9x5",
        "outputId": "19996328-a399-44ea-fe94-a85f00f1a9b1"
      },
      "execution_count": 81,
      "outputs": [
        {
          "output_type": "stream",
          "name": "stdout",
          "text": [
            "Meow\n",
            "Purr\n"
          ]
        }
      ]
    }
  ]
}