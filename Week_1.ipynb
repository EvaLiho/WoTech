{
  "nbformat": 4,
  "nbformat_minor": 0,
  "metadata": {
    "colab": {
      "provenance": [],
      "authorship_tag": "ABX9TyOMDGeYsJaZ1nWD0CI8mjeV",
      "include_colab_link": true
    },
    "kernelspec": {
      "name": "python3",
      "display_name": "Python 3"
    },
    "language_info": {
      "name": "python"
    }
  },
  "cells": [
    {
      "cell_type": "markdown",
      "metadata": {
        "id": "view-in-github",
        "colab_type": "text"
      },
      "source": [
        "<a href=\"https://colab.research.google.com/github/EvaLiho/WoTech/blob/main/Week_1.ipynb\" target=\"_parent\"><img src=\"https://colab.research.google.com/assets/colab-badge.svg\" alt=\"Open In Colab\"/></a>"
      ]
    },
    {
      "cell_type": "code",
      "execution_count": null,
      "metadata": {
        "id": "sBh_nK8GZZQA"
      },
      "outputs": [],
      "source": [
        "\n",
        "\n",
        "name = \"Anna\" #text/string\n",
        "surname = \"Johnson\" #text/string\n",
        "age = 35 #integer\n",
        "occupation = \"Programmer\" #text/string\n",
        "university_graduate = False #boolean\n",
        "height = 172.23 #float\n",
        "\n",
        "print(f\"Full name: {name} {surname}\\nOccupation: {occupation}\\nUni degree: {university_graduate}\")\n",
        "\n",
        "# We are preparing for a party\n",
        "guest_1 = 'John'\n",
        "guest_2 = 'Anna'\n",
        "guest_3 = 'Jeniffer'\n",
        "\n",
        "print(guest_1, guest_2, guest_3)\n",
        "\n",
        "guests = ['John', 'Anna', 'Jenifer', 'Kerli', 'Madara']\n",
        "print(guests)\n",
        "\n",
        "var_1 = 100\n"
      ]
    },
    {
      "cell_type": "markdown",
      "source": [],
      "metadata": {
        "id": "JCF0svVt_z4e"
      }
    },
    {
      "cell_type": "code",
      "source": [
        "name = \"trees \"*10\n",
        "print(name, end = \"\")"
      ],
      "metadata": {
        "colab": {
          "base_uri": "https://localhost:8080/"
        },
        "id": "Uxz-erf0_0aX",
        "outputId": "754f174b-447e-48cb-a6c5-1a28d28c2656"
      },
      "execution_count": null,
      "outputs": [
        {
          "output_type": "stream",
          "name": "stdout",
          "text": [
            "trees trees trees trees trees trees trees trees trees trees "
          ]
        }
      ]
    },
    {
      "cell_type": "code",
      "source": [
        "name = input(\"Enter Your name: \")\n",
        "\n",
        "print(f'Hello {name}, nice to meet You!') #f-string\n",
        "print('Hello', name,'nice to meet You!') #not f-string"
      ],
      "metadata": {
        "colab": {
          "base_uri": "https://localhost:8080/"
        },
        "id": "bka21BxZBBE_",
        "outputId": "b514ebbe-6017-44e6-dbe1-6bdfae9dcafd"
      },
      "execution_count": null,
      "outputs": [
        {
          "output_type": "stream",
          "name": "stdout",
          "text": [
            "Enter Your name: Eva\n",
            "Hello Eva, nice to meet You!\n",
            "Hello Eva nice to meet You!\n"
          ]
        }
      ]
    },
    {
      "cell_type": "code",
      "source": [
        "print(f'Hello {name}, I would like to read the book \"Hamlet\"') # \" in text"
      ],
      "metadata": {
        "colab": {
          "base_uri": "https://localhost:8080/"
        },
        "id": "siayu-WNB4BW",
        "outputId": "f661b321-ea93-4a1e-f47d-060cfb4bfa99"
      },
      "execution_count": null,
      "outputs": [
        {
          "output_type": "stream",
          "name": "stdout",
          "text": [
            "Hello Eva, I would like to read the book \"Hamlet\"\n"
          ]
        }
      ]
    },
    {
      "cell_type": "code",
      "source": [
        "name = 'Anna'\n",
        "surname = 'Johnson'\n",
        "print('Hello,', name,'!')\n",
        "print(f'Hello, {name}!')\n",
        "print(f'{name}, do You want to read \"Hamlet\"?')\n"
      ],
      "metadata": {
        "colab": {
          "base_uri": "https://localhost:8080/"
        },
        "id": "iJcjp1K8E3sN",
        "outputId": "b7ed282d-80cd-4fca-f1cb-26d7b6c8d228"
      },
      "execution_count": null,
      "outputs": [
        {
          "output_type": "stream",
          "name": "stdout",
          "text": [
            "Hello, Anna !\n",
            "Hello, Anna!\n",
            "Anna, do You want to read \"Hamlet\"?\n"
          ]
        }
      ]
    }
  ]
}

{
  "nbformat": 4,
  "nbformat_minor": 0,
  "metadata": {
    "colab": {
      "provenance": [],
      "authorship_tag": "ABX9TyOMDGeYsJaZ1nWD0CI8mjeV",
      "include_colab_link": true
    },
    "kernelspec": {
      "name": "python3",
      "display_name": "Python 3"
    },
    "language_info": {
      "name": "python"
    }
  },
  "cells": [
    {
      "cell_type": "markdown",
      "metadata": {
        "id": "view-in-github",
        "colab_type": "text"
      },
      "source": [
        "<a href=\"https://colab.research.google.com/github/EvaLiho/WoTech/blob/main/Python%20week%201\" target=\"_parent\"><img src=\"https://colab.research.google.com/assets/colab-badge.svg\" alt=\"Open In Colab\"/></a>"
      ]
    },
    {
      "cell_type": "code",
      "execution_count": null,
      "metadata": {
        "id": "sBh_nK8GZZQA"
      },
      "outputs": [],
      "source": [
        "\n",
        "\n",
        "name = \"Anna\" #text/string\n",
        "surname = \"Johnson\" #text/string\n",
        "age = 35 #integer\n",
        "occupation = \"Programmer\" #text/string\n",
        "university_graduate = False #boolean\n",
        "height = 172.23 #float\n",
        "\n",
        "print(f\"Full name: {name} {surname}\\nOccupation: {occupation}\\nUni degree: {university_graduate}\")\n",
        "\n",
        "# We are preparing for a party\n",
        "guest_1 = 'John'\n",
        "guest_2 = 'Anna'\n",
        "guest_3 = 'Jeniffer'\n",
        "\n",
        "print(guest_1, guest_2, guest_3)\n",
        "\n",
        "guests = ['John', 'Anna', 'Jenifer', 'Kerli', 'Madara']\n",
        "print(guests)\n",
        "\n",
        "var_1 = 100\n"
      ]
    },
    {
      "cell_type": "markdown",
      "source": [],
      "metadata": {
        "id": "JCF0svVt_z4e"
      }
    },
    {
      "cell_type": "code",
      "source": [
        "name = \"trees \"*10\n",
        "print(name, end = \"\")"
      ],
      "metadata": {
        "colab": {
          "base_uri": "https://localhost:8080/"
        },
        "id": "Uxz-erf0_0aX",
        "outputId": "754f174b-447e-48cb-a6c5-1a28d28c2656"
      },
      "execution_count": null,
      "outputs": [
        {
          "output_type": "stream",
          "name": "stdout",
          "text": [
            "trees trees trees trees trees trees trees trees trees trees "
          ]
        }
      ]
    },
    {
      "cell_type": "code",
      "source": [
        "name = input(\"Enter Your name: \")\n",
        "\n",
        "print(f'Hello {name}, nice to meet You!') #f-string\n",
        "print('Hello', name,'nice to meet You!') #not f-string"
      ],
      "metadata": {
        "colab": {
          "base_uri": "https://localhost:8080/"
        },
        "id": "bka21BxZBBE_",
        "outputId": "b514ebbe-6017-44e6-dbe1-6bdfae9dcafd"
      },
      "execution_count": null,
      "outputs": [
        {
          "output_type": "stream",
          "name": "stdout",
          "text": [
            "Enter Your name: Eva\n",
            "Hello Eva, nice to meet You!\n",
            "Hello Eva nice to meet You!\n"
          ]
        }
      ]
    },
    {
      "cell_type": "code",
      "source": [
        "print(f'Hello {name}, I would like to read the book \"Hamlet\"') # \" in text"
      ],
      "metadata": {
        "colab": {
          "base_uri": "https://localhost:8080/"
        },
        "id": "siayu-WNB4BW",
        "outputId": "f661b321-ea93-4a1e-f47d-060cfb4bfa99"
      },
      "execution_count": null,
      "outputs": [
        {
          "output_type": "stream",
          "name": "stdout",
          "text": [
            "Hello Eva, I would like to read the book \"Hamlet\"\n"
          ]
        }
      ]
    },
    {
      "cell_type": "code",
      "source": [
        "name = 'Anna'\n",
        "surname = 'Johnson'\n",
        "print('Hello,', name,'!')\n",
        "print(f'Hello, {name}!')\n",
        "print(f'{name}, do You want to read \"Hamlet\"?')\n"
      ],
      "metadata": {
        "colab": {
          "base_uri": "https://localhost:8080/"
        },
        "id": "iJcjp1K8E3sN",
        "outputId": "b7ed282d-80cd-4fca-f1cb-26d7b6c8d228"
      },
      "execution_count": null,
      "outputs": [
        {
          "output_type": "stream",
          "name": "stdout",
          "text": [
            "Hello, Anna !\n",
            "Hello, Anna!\n",
            "Anna, do You want to read \"Hamlet\"?\n"
          ]
        }
      ]
    }
  ]
}
