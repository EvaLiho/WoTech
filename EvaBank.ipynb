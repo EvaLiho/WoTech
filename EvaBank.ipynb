{
  "nbformat": 4,
  "nbformat_minor": 0,
  "metadata": {
    "colab": {
      "provenance": [],
      "authorship_tag": "ABX9TyP7+tRdxLJ2Ob0aQp/I1OJn",
      "include_colab_link": true
    },
    "kernelspec": {
      "name": "python3",
      "display_name": "Python 3"
    },
    "language_info": {
      "name": "python"
    }
  },
  "cells": [
    {
      "cell_type": "markdown",
      "metadata": {
        "id": "view-in-github",
        "colab_type": "text"
      },
      "source": [
        "<a href=\"https://colab.research.google.com/github/EvaLiho/WoTech/blob/main/EvaBank.ipynb\" target=\"_parent\"><img src=\"https://colab.research.google.com/assets/colab-badge.svg\" alt=\"Open In Colab\"/></a>"
      ]
    },
    {
      "cell_type": "markdown",
      "source": [
        "### Eva's Simple Bank"
      ],
      "metadata": {
        "id": "JJdUQGuNdEmu"
      }
    },
    {
      "cell_type": "code",
      "execution_count": 15,
      "metadata": {
        "colab": {
          "base_uri": "https://localhost:8080/"
        },
        "id": "0CYMD8xrdAy_",
        "outputId": "a94a7a52-709c-4ac4-db43-27f8d96c16cd"
      },
      "outputs": [
        {
          "output_type": "stream",
          "name": "stdout",
          "text": [
            "Welcome to the Bank! You can make a deposit, Your balance at the moment iseuros\n",
            "Enter deposit amount: 500\n",
            "Enter deposit amount: 500\n",
            "Enter deposit amount: 0\n",
            "Thank You for visiting the Bank! Your balance is now 1000 euros\n"
          ]
        }
      ],
      "source": [
        "class Bank:\n",
        "    def __init__(self):\n",
        "        self.balance = 0\n",
        "\n",
        "    def deposit(self, amount):\n",
        "        self.balance += amount\n",
        "\n",
        "    def ask_deposit(self):\n",
        "        while True:\n",
        "            try:\n",
        "                amount = int(input(\"Enter Your deposit amount: \"))\n",
        "                if amount == 0:\n",
        "                    break\n",
        "                self.deposit(amount)\n",
        "            except ValueError:\n",
        "                print(\"Invalid input. Please enter a valid amount.\")\n",
        "\n",
        "print(f'Welcome to the Bank! You can make a deposit, Your balance at the moment is''euros')\n",
        "bank = Bank()\n",
        "bank.ask_deposit()\n",
        "print(f'Thank You for visiting the Bank! Your balance is now {bank.balance} euros')"
      ]
    }
  ]
}